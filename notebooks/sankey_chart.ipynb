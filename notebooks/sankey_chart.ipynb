{
 "cells": [
  {
   "cell_type": "code",
   "execution_count": null,
   "metadata": {},
   "outputs": [],
   "source": [
    "!pip install plotly"
   ]
  },
  {
   "cell_type": "code",
   "execution_count": null,
   "metadata": {},
   "outputs": [],
   "source": [
    "import yfinance as yf\n",
    "\n",
    "msft = yf.Ticker(\"MSFT\")"
   ]
  },
  {
   "cell_type": "code",
   "execution_count": null,
   "metadata": {},
   "outputs": [],
   "source": [
    "msft.quarterly_incomestmt\n",
    "msft.incomestmt\n",
    "msft.financials\n",
    "msft.get_cashflow\n",
    "msft.get_dividends\n",
    "msft.get_income_stmt\n",
    "msft.get_splits\n",
    "msft.quarterly_financials\n",
    "msft.quarterly_cash_flow"
   ]
  },
  {
   "cell_type": "code",
   "execution_count": null,
   "metadata": {},
   "outputs": [],
   "source": [
    "import plotly.graph_objects as go\n",
    "\n",
    "# Define the nodes for the chart\n",
    "labels = [\n",
    "    'Total Revenue', 'Server', 'Office', 'Gaming', 'Windows', 'LinkedIn', 'Search', 'Other',\n",
    "    'Cost of Revenue', 'Gross Profit', 'Operating Expenses', 'Operating Profit', 'Net Profit',\n",
    "    'Tax', 'R&D', 'Sales & Marketing', 'G&A'\n",
    "]\n",
    "\n",
    "# Define the sources and targets for the chart\n",
    "sources = [\n",
    "    0, 0, 0, 0, 0, 0, 0,    # Revenue to different segments\n",
    "    1, 2, 3, 4, 5, 6, 7,    # Segments to Cost of Revenue\n",
    "    8, 8,                   # Cost of Revenue to Gross Profit\n",
    "    9, 9, 9,                # Gross Profit to Operating Expenses\n",
    "    10,                     # Operating Expenses to Operating Profit\n",
    "    11, 11, 11,             # Operating Profit to Net Profit\n",
    "]\n",
    "\n",
    "targets = [\n",
    "    1, 2, 3, 4, 5, 6, 7,    # Revenue to different segments\n",
    "    8, 8, 8, 8, 8, 8, 8,    # Segments to Cost of Revenue\n",
    "    9, 10,                  # Cost of Revenue to Gross Profit\n",
    "    12, 13, 14,             # Gross Profit to Operating Expenses\n",
    "    11,                     # Operating Expenses to Operating Profit\n",
    "    12, 13, 14,             # Operating Profit to Net Profit\n",
    "]\n",
    "\n",
    "# Define the values for each flow\n",
    "values = [\n",
    "    24800000000, 13980000000, 5500000000, 5900000000, 4000000000, 3100000000, 4600000000,  # Revenue to segments\n",
    "    19684000000, 19684000000, 19684000000, 19684000000, 19684000000, 19684000000, 19684000000,  # Segments to Cost of Revenue\n",
    "    45043000000, 17118000000,  # Cost of Revenue to Gross Profit\n",
    "    9062000000, 8056000000, 2246000000,  # Gross Profit to Operating Expenses\n",
    "    27951000000,  # Operating Expenses to Operating Profit\n",
    "    22036000000, 4788000000, 7653000000  # Operating Profit to Net Profit\n",
    "]\n",
    "\n",
    "# Create the Sankey chart\n",
    "fig = go.Figure(go.Sankey(\n",
    "    node = {\n",
    "        \"pad\": 15,\n",
    "        \"thickness\": 20,\n",
    "        \"line\": {\"color\": \"black\", \"width\": 0.5},\n",
    "        \"label\": labels\n",
    "    },\n",
    "    link = {\n",
    "        \"source\": sources,\n",
    "        \"target\": targets,\n",
    "        \"value\": values\n",
    "    }\n",
    "))\n",
    "\n",
    "fig.update_layout(title_text=\"Microsoft Earnings Sankey Chart\", font_size=10)\n",
    "fig.show()"
   ]
  }
 ],
 "metadata": {
  "language_info": {
   "name": "python"
  }
 },
 "nbformat": 4,
 "nbformat_minor": 2
}
