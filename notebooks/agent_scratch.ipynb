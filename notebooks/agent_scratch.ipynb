{
 "cells": [
  {
   "cell_type": "code",
   "execution_count": 1,
   "metadata": {},
   "outputs": [],
   "source": [
    "import os\n",
    "import openai\n",
    "\n",
    "from dotenv import load_dotenv, find_dotenv\n",
    "_ = load_dotenv(find_dotenv()) # read local .env file\n",
    "openai.api_key = os.environ['OPENAI_API_KEY']"
   ]
  },
  {
   "cell_type": "code",
   "execution_count": 2,
   "metadata": {},
   "outputs": [],
   "source": [
    "import sys\n",
    "sys.path.append(os.path.abspath('..'))"
   ]
  },
  {
   "cell_type": "code",
   "execution_count": 3,
   "metadata": {},
   "outputs": [],
   "source": [
    "from tools import get_historical_data, get_stock_info\n",
    "from utils import run_agent, create_chain, tool_registry"
   ]
  },
  {
   "cell_type": "code",
   "execution_count": 4,
   "metadata": {},
   "outputs": [],
   "source": [
    "tool_registry.register_tool(\"get_stock_info\", get_stock_info)\n",
    "tool_registry.register_tool(\"get_historical_data\", get_historical_data)"
   ]
  },
  {
   "cell_type": "code",
   "execution_count": 5,
   "metadata": {},
   "outputs": [
    {
     "data": {
      "text/plain": [
       "[StructuredTool(name='get_stock_info', description='Fetch all stock information for a given ticker symbol.', args_schema=<class 'tools.get_stock_info.StockInfoInput'>, func=<function get_stock_info at 0x12042e8e0>),\n",
       " StructuredTool(name='get_historical_data', description='Fetch historical market data for a given ticker symbol and period.', args_schema=<class 'tools.get_historical_data.HistoricalDataInput'>, func=<function get_historical_data at 0x12042e020>)]"
      ]
     },
     "execution_count": 5,
     "metadata": {},
     "output_type": "execute_result"
    }
   ],
   "source": [
    "tools = tool_registry.get_tools()\n",
    "tools"
   ]
  },
  {
   "cell_type": "code",
   "execution_count": 6,
   "metadata": {},
   "outputs": [
    {
     "name": "stderr",
     "output_type": "stream",
     "text": [
      "/Users/ojaskapre/projects/yfinance-llm-agent/venv/lib/python3.12/site-packages/langchain_core/_api/deprecation.py:139: LangChainDeprecationWarning: The function `format_tool_to_openai_function` was deprecated in LangChain 0.1.16 and will be removed in 0.3.0. Use langchain_core.utils.function_calling.convert_to_openai_function() instead.\n",
      "  warn_deprecated(\n",
      "/Users/ojaskapre/projects/yfinance-llm-agent/venv/lib/python3.12/site-packages/langchain_core/_api/deprecation.py:139: LangChainDeprecationWarning: The class `ChatOpenAI` was deprecated in LangChain 0.0.10 and will be removed in 0.3.0. An updated version of the class exists in the langchain-openai package and should be used instead. To use it run `pip install -U langchain-openai` and import as `from langchain_openai import ChatOpenAI`.\n",
      "  warn_deprecated(\n"
     ]
    }
   ],
   "source": [
    "agent_chain = create_chain(tools)"
   ]
  },
  {
   "cell_type": "markdown",
   "metadata": {},
   "source": [
    "### Example usage"
   ]
  },
  {
   "cell_type": "code",
   "execution_count": 7,
   "metadata": {},
   "outputs": [
    {
     "data": {
      "text/plain": [
       "AgentFinish(return_values={'output': '### Microsoft Corporation (MSFT)\\n\\n- **Description:** Microsoft Corporation develops and supports software, services, devices, and solutions worldwide. The company operates in three segments: Productivity and Business Processes, Intelligent Cloud, and More Personal Computing.\\n\\n- **Address:** One Microsoft Way, Redmond, WA, 98052-6399, United States\\n- **Phone:** 425 882 8080\\n- **Website:** [Microsoft Website](https://www.microsoft.com)\\n- **Industry:** Software - Infrastructure\\n- **Sector:** Technology\\n\\n#### Financial Information:\\n- **Current Price:** $402.69\\n- **Previous Close:** $398.43\\n- **Open:** $402.4\\n- **Day Range:** $399.94 - $405.86\\n- **52-Week Range:** $309.45 - $468.35\\n- **Market Cap:** $2.993 Trillion\\n- **Dividend Rate:** $3.00\\n- **Dividend Yield:** 0.75%\\n- **P/E Ratio (TTM):** 34.16\\n- **Forward P/E Ratio:** 26.48\\n- **EPS (TTM):** 11.79\\n- **Forward EPS:** 15.21\\n- **Revenue:** $245.12 Billion\\n- **Net Income:** $88.14 Billion\\n- **EBITDA:** $129.43 Billion\\n- **Gross Margin:** 69.76%\\n- **Operating Margin:** 43.14%\\n- **Profit Margin:** 35.96%\\n- **Return on Assets:** 14.80%\\n- **Return on Equity:** 37.13%\\n- **Free Cash Flow:** $56.71 Billion\\n\\n#### Analyst Recommendations:\\n- **Recommendation:** Buy\\n- **Target High Price:** $600.00\\n- **Target Low Price:** $440.00\\n- **Target Mean Price:** $498.34\\n- **Number of Analyst Opinions:** 46\\n\\nFor more detailed financial information, you can visit the [Microsoft Investor Relations Website](http://www.microsoft.com/investor/default.aspx).'}, log='### Microsoft Corporation (MSFT)\\n\\n- **Description:** Microsoft Corporation develops and supports software, services, devices, and solutions worldwide. The company operates in three segments: Productivity and Business Processes, Intelligent Cloud, and More Personal Computing.\\n\\n- **Address:** One Microsoft Way, Redmond, WA, 98052-6399, United States\\n- **Phone:** 425 882 8080\\n- **Website:** [Microsoft Website](https://www.microsoft.com)\\n- **Industry:** Software - Infrastructure\\n- **Sector:** Technology\\n\\n#### Financial Information:\\n- **Current Price:** $402.69\\n- **Previous Close:** $398.43\\n- **Open:** $402.4\\n- **Day Range:** $399.94 - $405.86\\n- **52-Week Range:** $309.45 - $468.35\\n- **Market Cap:** $2.993 Trillion\\n- **Dividend Rate:** $3.00\\n- **Dividend Yield:** 0.75%\\n- **P/E Ratio (TTM):** 34.16\\n- **Forward P/E Ratio:** 26.48\\n- **EPS (TTM):** 11.79\\n- **Forward EPS:** 15.21\\n- **Revenue:** $245.12 Billion\\n- **Net Income:** $88.14 Billion\\n- **EBITDA:** $129.43 Billion\\n- **Gross Margin:** 69.76%\\n- **Operating Margin:** 43.14%\\n- **Profit Margin:** 35.96%\\n- **Return on Assets:** 14.80%\\n- **Return on Equity:** 37.13%\\n- **Free Cash Flow:** $56.71 Billion\\n\\n#### Analyst Recommendations:\\n- **Recommendation:** Buy\\n- **Target High Price:** $600.00\\n- **Target Low Price:** $440.00\\n- **Target Mean Price:** $498.34\\n- **Number of Analyst Opinions:** 46\\n\\nFor more detailed financial information, you can visit the [Microsoft Investor Relations Website](http://www.microsoft.com/investor/default.aspx).')"
      ]
     },
     "execution_count": 7,
     "metadata": {},
     "output_type": "execute_result"
    }
   ],
   "source": [
    "run_agent(agent_chain=agent_chain, user_input=\"give me information about microsoft\")"
   ]
  },
  {
   "cell_type": "code",
   "execution_count": 8,
   "metadata": {},
   "outputs": [
    {
     "data": {
      "text/plain": [
       "AgentFinish(return_values={'output': 'The previous high, low, open, and close values of Microsoft (MSFT) are as follows:\\n\\n- Previous High: $405.86\\n- Previous Low: $399.94\\n- Previous Open: $402.40\\n- Previous Close: $398.43\\n\\nPlease note that these values are based on the most recent data available.'}, log='The previous high, low, open, and close values of Microsoft (MSFT) are as follows:\\n\\n- Previous High: $405.86\\n- Previous Low: $399.94\\n- Previous Open: $402.40\\n- Previous Close: $398.43\\n\\nPlease note that these values are based on the most recent data available.')"
      ]
     },
     "execution_count": 8,
     "metadata": {},
     "output_type": "execute_result"
    }
   ],
   "source": [
    "run_agent(agent_chain=agent_chain, user_input=\"what's the value of previous high, low, open and close of microsoft\")"
   ]
  },
  {
   "cell_type": "code",
   "execution_count": 9,
   "metadata": {},
   "outputs": [
    {
     "data": {
      "text/plain": [
       "AgentFinish(return_values={'output': 'Here is the table with the requested information for Microsoft (MSFT):\\n\\n| Metric          | Value   |\\n|-----------------|---------|\\n| Previous High   | 405.86  |\\n| Previous Low    | 399.94  |\\n| Previous Open   | 402.40  |\\n| Previous Close  | 398.43  |\\n| Current Price   | 402.69  |\\n\\nPlease let me know if you need any additional information.'}, log='Here is the table with the requested information for Microsoft (MSFT):\\n\\n| Metric          | Value   |\\n|-----------------|---------|\\n| Previous High   | 405.86  |\\n| Previous Low    | 399.94  |\\n| Previous Open   | 402.40  |\\n| Previous Close  | 398.43  |\\n| Current Price   | 402.69  |\\n\\nPlease let me know if you need any additional information.')"
      ]
     },
     "execution_count": 9,
     "metadata": {},
     "output_type": "execute_result"
    }
   ],
   "source": [
    "run_agent(agent_chain=agent_chain, user_input=\"what's the value of previous high, low, open and close, and current price of microsoft. Give me in table format\")"
   ]
  },
  {
   "cell_type": "code",
   "execution_count": 10,
   "metadata": {},
   "outputs": [
    {
     "data": {
      "text/plain": [
       "AgentFinish(return_values={'output': 'Here is the Apple market data for the past 1 month in JSON format:\\n\\n```json\\n{\\n    \"2024-07-09\": {\\n        \"Open\": 227.93,\\n        \"High\": 229.40,\\n        \"Low\": 226.37,\\n        \"Close\": 228.68,\\n        \"Volume\": 48076100\\n    },\\n    \"2024-07-10\": {\\n        \"Open\": 229.30,\\n        \"High\": 233.08,\\n        \"Low\": 229.25,\\n        \"Close\": 232.98,\\n        \"Volume\": 62627700\\n    },\\n    \"2024-07-11\": {\\n        \"Open\": 231.39,\\n        \"High\": 232.39,\\n        \"Low\": 225.77,\\n        \"Close\": 227.57,\\n        \"Volume\": 64710600\\n    },\\n    ...\\n    \"2024-08-08\": {\\n        \"Open\": 213.11,\\n        \"High\": 214.20,\\n        \"Low\": 208.83,\\n        \"Close\": 213.31,\\n        \"Volume\": 44598400\\n    }\\n}\\n```\\n\\nThis data includes the opening price, high price, low price, closing price, and volume for each trading day in the past month.'}, log='Here is the Apple market data for the past 1 month in JSON format:\\n\\n```json\\n{\\n    \"2024-07-09\": {\\n        \"Open\": 227.93,\\n        \"High\": 229.40,\\n        \"Low\": 226.37,\\n        \"Close\": 228.68,\\n        \"Volume\": 48076100\\n    },\\n    \"2024-07-10\": {\\n        \"Open\": 229.30,\\n        \"High\": 233.08,\\n        \"Low\": 229.25,\\n        \"Close\": 232.98,\\n        \"Volume\": 62627700\\n    },\\n    \"2024-07-11\": {\\n        \"Open\": 231.39,\\n        \"High\": 232.39,\\n        \"Low\": 225.77,\\n        \"Close\": 227.57,\\n        \"Volume\": 64710600\\n    },\\n    ...\\n    \"2024-08-08\": {\\n        \"Open\": 213.11,\\n        \"High\": 214.20,\\n        \"Low\": 208.83,\\n        \"Close\": 213.31,\\n        \"Volume\": 44598400\\n    }\\n}\\n```\\n\\nThis data includes the opening price, high price, low price, closing price, and volume for each trading day in the past month.')"
      ]
     },
     "execution_count": 10,
     "metadata": {},
     "output_type": "execute_result"
    }
   ],
   "source": [
    "run_agent(agent_chain=agent_chain, user_input=\"give me apple market data for past 1 month in json format\")"
   ]
  },
  {
   "cell_type": "code",
   "execution_count": null,
   "metadata": {},
   "outputs": [],
   "source": []
  }
 ],
 "metadata": {
  "kernelspec": {
   "display_name": "venv",
   "language": "python",
   "name": "python3"
  },
  "language_info": {
   "codemirror_mode": {
    "name": "ipython",
    "version": 3
   },
   "file_extension": ".py",
   "mimetype": "text/x-python",
   "name": "python",
   "nbconvert_exporter": "python",
   "pygments_lexer": "ipython3",
   "version": "3.12.2"
  }
 },
 "nbformat": 4,
 "nbformat_minor": 2
}
