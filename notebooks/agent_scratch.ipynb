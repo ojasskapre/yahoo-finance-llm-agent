{
 "cells": [
  {
   "cell_type": "code",
   "execution_count": 1,
   "metadata": {},
   "outputs": [],
   "source": [
    "import os\n",
    "import openai\n",
    "\n",
    "from dotenv import load_dotenv, find_dotenv\n",
    "_ = load_dotenv(find_dotenv()) # read local .env file\n",
    "openai.api_key = os.environ['OPENAI_API_KEY']"
   ]
  },
  {
   "cell_type": "code",
   "execution_count": 2,
   "metadata": {},
   "outputs": [],
   "source": [
    "import sys\n",
    "sys.path.append(os.path.abspath('..'))"
   ]
  },
  {
   "cell_type": "code",
   "execution_count": 3,
   "metadata": {},
   "outputs": [],
   "source": [
    "from tools import get_historical_data, get_stock_info, get_stock_actions, get_shares_count, get_financials, get_holders_info, get_recommendations, get_options_expiration_dates, get_option_chain, get_stock_news\n",
    "from utils import run_agent, create_chain, tool_registry"
   ]
  },
  {
   "cell_type": "code",
   "execution_count": 4,
   "metadata": {},
   "outputs": [],
   "source": [
    "tool_registry.register_tool(\"get_stock_info\", get_stock_info)\n",
    "tool_registry.register_tool(\"get_historical_data\", get_historical_data)\n",
    "tool_registry.register_tool(\"get_stock_actions\", get_stock_actions)\n",
    "tool_registry.register_tool(\"get_shares_count\", get_shares_count)\n",
    "tool_registry.register_tool(\"get_financials\", get_financials)\n",
    "tool_registry.register_tool(\"get_holders_info\", get_holders_info)\n",
    "tool_registry.register_tool(\"get_recommendations\", get_recommendations)\n",
    "tool_registry.register_tool(\"get_options_expiration_dates\", get_options_expiration_dates)\n",
    "tool_registry.register_tool(\"get_option_chain\", get_option_chain)\n",
    "tool_registry.register_tool(\"get_stock_news\", get_stock_news)"
   ]
  },
  {
   "cell_type": "code",
   "execution_count": 5,
   "metadata": {},
   "outputs": [
    {
     "data": {
      "text/plain": [
       "[StructuredTool(name='get_stock_info', description='Fetch all stock information for a given ticker symbol.', args_schema=<class 'tools.get_stock_info.StockInfoInput'>, func=<function get_stock_info at 0x12b9467a0>),\n",
       " StructuredTool(name='get_historical_data', description='Fetch historical market data for a given ticker symbol and period.', args_schema=<class 'tools.get_historical_data.HistoricalDataInput'>, func=<function get_historical_data at 0x12b945ee0>),\n",
       " StructuredTool(name='get_stock_actions', description='Fetch stock actions such as dividends, splits, or both for a given ticker symbol.', args_schema=<class 'tools.get_actions.ActionInput'>, func=<function get_stock_actions at 0x12b946660>),\n",
       " StructuredTool(name='get_shares_count', description='Fetch the number of shares outstanding over a specified date range.', args_schema=<class 'tools.get_shares_count.SharesCountInput'>, func=<function get_shares_count at 0x12b945d00>),\n",
       " StructuredTool(name='get_financials', description='Fetch the specified financial statement for a given ticker symbol.', args_schema=<class 'tools.get_financials.FinancialsInput'>, func=<function get_financials at 0x12b946ac0>),\n",
       " StructuredTool(name='get_holders_info', description=\"Fetch the specified holders' information or sustainability metrics for a given ticker symbol.\", args_schema=<class 'tools.get_holders.HoldersInput'>, func=<function get_holders_info at 0x12b946f20>),\n",
       " StructuredTool(name='get_recommendations', description='Fetch the specified recommendation information for a given ticker symbol.', args_schema=<class 'tools.get_recommendations.RecommendationsInput'>, func=<function get_recommendations at 0x12b947420>),\n",
       " StructuredTool(name='get_options_expiration_dates', description='Fetch the available options expiration dates for a given ticker symbol.', args_schema=<class 'tools.get_options.OptionsInput'>, func=<function get_options_expiration_dates at 0x12b947a60>),\n",
       " StructuredTool(name='get_option_chain', description='Fetch the options chain for a given ticker symbol and expiration date.', args_schema=<class 'tools.get_option_chain.OptionChainInput'>, func=<function get_option_chain at 0x12b947100>),\n",
       " StructuredTool(name='get_stock_news', description='Fetch the latest news articles for a given ticker symbol.', args_schema=<class 'tools.get_news.NewsInput'>, func=<function get_stock_news at 0x12b946ca0>)]"
      ]
     },
     "execution_count": 5,
     "metadata": {},
     "output_type": "execute_result"
    }
   ],
   "source": [
    "tools = tool_registry.get_tools()\n",
    "tools"
   ]
  },
  {
   "cell_type": "code",
   "execution_count": 6,
   "metadata": {},
   "outputs": [
    {
     "name": "stderr",
     "output_type": "stream",
     "text": [
      "/Users/ojaskapre/projects/yfinance-llm-agent/venv/lib/python3.12/site-packages/langchain_core/_api/deprecation.py:139: LangChainDeprecationWarning: The function `format_tool_to_openai_function` was deprecated in LangChain 0.1.16 and will be removed in 0.3.0. Use langchain_core.utils.function_calling.convert_to_openai_function() instead.\n",
      "  warn_deprecated(\n",
      "/Users/ojaskapre/projects/yfinance-llm-agent/venv/lib/python3.12/site-packages/langchain_core/_api/deprecation.py:139: LangChainDeprecationWarning: The class `ChatOpenAI` was deprecated in LangChain 0.0.10 and will be removed in 0.3.0. An updated version of the class exists in the langchain-openai package and should be used instead. To use it run `pip install -U langchain-openai` and import as `from langchain_openai import ChatOpenAI`.\n",
      "  warn_deprecated(\n"
     ]
    }
   ],
   "source": [
    "agent_chain = create_chain(tools)"
   ]
  },
  {
   "cell_type": "code",
   "execution_count": 8,
   "metadata": {},
   "outputs": [],
   "source": [
    "from langchain.agents import AgentExecutor\n",
    "agent_executor = AgentExecutor(agent=agent_chain, tools=tools, verbose=True)"
   ]
  },
  {
   "cell_type": "markdown",
   "metadata": {},
   "source": [
    "### Example usage"
   ]
  },
  {
   "cell_type": "code",
   "execution_count": 10,
   "metadata": {},
   "outputs": [
    {
     "name": "stdout",
     "output_type": "stream",
     "text": [
      "\n",
      "\n",
      "\u001b[1m> Entering new AgentExecutor chain...\u001b[0m\n",
      "\u001b[32;1m\u001b[1;3m\n",
      "Invoking: `get_stock_info` with `{'ticker': 'MSFT'}`\n",
      "\n",
      "\n",
      "\u001b[0m\u001b[36;1m\u001b[1;3m{'address1': 'One Microsoft Way', 'city': 'Redmond', 'state': 'WA', 'zip': '98052-6399', 'country': 'United States', 'phone': '425 882 8080', 'website': 'https://www.microsoft.com', 'industry': 'Software - Infrastructure', 'industryKey': 'software-infrastructure', 'industryDisp': 'Software - Infrastructure', 'sector': 'Technology', 'sectorKey': 'technology', 'sectorDisp': 'Technology', 'longBusinessSummary': 'Microsoft Corporation develops and supports software, services, devices and solutions worldwide. The Productivity and Business Processes segment offers office, exchange, SharePoint, Microsoft Teams, office 365 Security and Compliance, Microsoft viva, and Microsoft 365 copilot; and office consumer services, such as Microsoft 365 consumer subscriptions, Office licensed on-premises, and other office services. This segment also provides LinkedIn; and dynamics business solutions, including Dynamics 365, a set of intelligent, cloud-based applications across ERP, CRM, power apps, and power automate; and on-premises ERP and CRM applications. The Intelligent Cloud segment offers server products and cloud services, such as azure and other cloud services; SQL and windows server, visual studio, system center, and related client access licenses, as well as nuance and GitHub; and enterprise services including enterprise support services, industry solutions, and nuance professional services. The More Personal Computing segment offers Windows, including windows OEM licensing and other non-volume licensing of the Windows operating system; Windows commercial comprising volume licensing of the Windows operating system, windows cloud services, and other Windows commercial offerings; patent licensing; and windows Internet of Things; and devices, such as surface, HoloLens, and PC accessories. Additionally, this segment provides gaming, which includes Xbox hardware and content, and first- and third-party content; Xbox game pass and other subscriptions, cloud gaming, advertising, third-party disc royalties, and other cloud services; and search and news advertising, which includes Bing, Microsoft News and Edge, and third-party affiliates. The company sells its products through OEMs, distributors, and resellers; and directly through digital marketplaces, online, and retail stores. The company was founded in 1975 and is headquartered in Redmond, Washington.', 'fullTimeEmployees': 228000, 'companyOfficers': [{'maxAge': 1, 'name': 'Mr. Satya  Nadella', 'age': 56, 'title': 'Chairman & CEO', 'yearBorn': 1967, 'fiscalYear': 2023, 'totalPay': 9276400, 'exercisedValue': 0, 'unexercisedValue': 0}, {'maxAge': 1, 'name': 'Mr. Bradford L. Smith LCA', 'age': 64, 'title': 'President & Vice Chairman', 'yearBorn': 1959, 'fiscalYear': 2023, 'totalPay': 3591277, 'exercisedValue': 0, 'unexercisedValue': 0}, {'maxAge': 1, 'name': 'Ms. Amy E. Hood', 'age': 51, 'title': 'Executive VP & CFO', 'yearBorn': 1972, 'fiscalYear': 2023, 'totalPay': 3452196, 'exercisedValue': 0, 'unexercisedValue': 0}, {'maxAge': 1, 'name': 'Mr. Judson B. Althoff', 'age': 50, 'title': 'Executive VP & Chief Commercial Officer', 'yearBorn': 1973, 'fiscalYear': 2023, 'totalPay': 3355797, 'exercisedValue': 0, 'unexercisedValue': 0}, {'maxAge': 1, 'name': 'Mr. Christopher David Young', 'age': 51, 'title': 'Executive Vice President of Business Development, Strategy & Ventures', 'yearBorn': 1972, 'fiscalYear': 2023, 'totalPay': 2460507, 'exercisedValue': 0, 'unexercisedValue': 0}, {'maxAge': 1, 'name': 'Ms. Alice L. Jolla', 'age': 57, 'title': 'Corporate VP & Chief Accounting Officer', 'yearBorn': 1966, 'fiscalYear': 2023, 'exercisedValue': 0, 'unexercisedValue': 0}, {'maxAge': 1, 'name': 'Mr. James Kevin Scott', 'age': 51, 'title': 'Executive VP of AI & CTO', 'yearBorn': 1972, 'fiscalYear': 2023, 'exercisedValue': 0, 'unexercisedValue': 0}, {'maxAge': 1, 'name': 'Brett  Iversen', 'title': 'Vice President of Investor Relations', 'fiscalYear': 2023, 'exercisedValue': 0, 'unexercisedValue': 0}, {'maxAge': 1, 'name': 'Mr. Hossein  Nowbar', 'title': 'Chief Legal Officer', 'fiscalYear': 2023, 'exercisedValue': 0, 'unexercisedValue': 0}, {'maxAge': 1, 'name': 'Mr. Frank X. Shaw', 'title': 'Chief Communications Officer', 'fiscalYear': 2023, 'exercisedValue': 0, 'unexercisedValue': 0}], 'auditRisk': 3, 'boardRisk': 4, 'compensationRisk': 2, 'shareHolderRightsRisk': 2, 'overallRisk': 1, 'governanceEpochDate': 1722470400, 'compensationAsOfEpochDate': 1703980800, 'irWebsite': 'http://www.microsoft.com/investor/default.aspx', 'maxAge': 86400, 'priceHint': 2, 'previousClose': 398.43, 'open': 402.4, 'dayLow': 399.9407, 'dayHigh': 405.86, 'regularMarketPreviousClose': 398.43, 'regularMarketOpen': 402.4, 'regularMarketDayLow': 399.9407, 'regularMarketDayHigh': 405.86, 'dividendRate': 3.0, 'dividendYield': 0.0074, 'exDividendDate': 1723680000, 'payoutRatio': 0.2483, 'fiveYearAvgDividendYield': 0.91, 'beta': 0.894, 'trailingPE': 34.097374, 'forwardPE': 26.440578, 'volume': 19197742, 'regularMarketVolume': 19197742, 'averageVolume': 19985416, 'averageVolume10days': 27897940, 'averageDailyVolume10Day': 27897940, 'bid': 382.04, 'ask': 422.58, 'bidSize': 100, 'askSize': 100, 'marketCap': 2993210785792, 'fiftyTwoWeekLow': 309.45, 'fiftyTwoWeekHigh': 468.35, 'priceToSalesTrailing12Months': 12.211106, 'fiftyDayAverage': 436.1282, 'twoHundredDayAverage': 405.1985, 'trailingAnnualDividendRate': 3.0, 'trailingAnnualDividendYield': 0.0075295535, 'currency': 'USD', 'enterpriseValue': 3015531298816, 'profitMargins': 0.35956, 'floatShares': 7422780788, 'sharesOutstanding': 7433039872, 'sharesShort': 61931266, 'sharesShortPriorMonth': 62396959, 'sharesShortPreviousMonthDate': 1718323200, 'dateShortInterest': 1721001600, 'sharesPercentSharesOut': 0.0083, 'heldPercentInsiders': 0.0005, 'heldPercentInstitutions': 0.73551005, 'shortRatio': 3.42, 'shortPercentOfFloat': 0.0083, 'impliedSharesOutstanding': 7433039872, 'bookValue': 36.115, 'priceToBook': 11.150214, 'lastFiscalYearEnd': 1719705600, 'nextFiscalYearEnd': 1751241600, 'mostRecentQuarter': 1719705600, 'earningsQuarterlyGrowth': 0.097, 'netIncomeToCommon': 88135999488, 'trailingEps': 11.81, 'forwardEps': 15.23, 'pegRatio': 2.11, 'lastSplitFactor': '2:1', 'lastSplitDate': 1045526400, 'enterpriseToRevenue': 12.302, 'enterpriseToEbitda': 23.298, '52WeekChange': 0.25444686, 'SandP52WeekChange': 0.1915884, 'lastDividendValue': 0.75, 'lastDividendDate': 1715731200, 'exchange': 'NMS', 'quoteType': 'EQUITY', 'symbol': 'MSFT', 'underlyingSymbol': 'MSFT', 'shortName': 'Microsoft Corporation', 'longName': 'Microsoft Corporation', 'firstTradeDateEpochUtc': 511108200, 'timeZoneFullName': 'America/New_York', 'timeZoneShortName': 'EDT', 'uuid': 'b004b3ec-de24-385e-b2c1-923f10d3fb62', 'messageBoardId': 'finmb_21835', 'gmtOffSetMilliseconds': -14400000, 'currentPrice': 402.69, 'targetHighPrice': 600.0, 'targetLowPrice': 440.0, 'targetMeanPrice': 497.69, 'targetMedianPrice': 500.0, 'recommendationMean': 1.7, 'recommendationKey': 'buy', 'numberOfAnalystOpinions': 46, 'totalCash': 75531001856, 'totalCashPerShare': 10.162, 'ebitda': 129433001984, 'totalDebt': 97851998208, 'quickRatio': 1.141, 'currentRatio': 1.275, 'totalRevenue': 245122007040, 'debtToEquity': 36.447, 'revenuePerShare': 32.986, 'returnOnAssets': 0.14802, 'returnOnEquity': 0.37133, 'freeCashflow': 56705249280, 'operatingCashflow': 118547996672, 'earningsGrowth': 0.097, 'revenueGrowth': 0.152, 'grossMargins': 0.69764, 'ebitdaMargins': 0.52804, 'operatingMargins': 0.43143, 'financialCurrency': 'USD', 'trailingPegRatio': 2.1709}\u001b[0m\u001b[32;1m\u001b[1;3m### Microsoft Corporation (MSFT)\n",
      "\n",
      "- **Description:** Microsoft Corporation develops and supports software, services, devices, and solutions worldwide. The company operates in three segments: Productivity and Business Processes, Intelligent Cloud, and More Personal Computing.\n",
      "\n",
      "- **Address:** One Microsoft Way, Redmond, WA, 98052-6399, United States\n",
      "- **Phone:** 425 882 8080\n",
      "- **Website:** [Microsoft Website](https://www.microsoft.com)\n",
      "- **Industry:** Software - Infrastructure\n",
      "- **Sector:** Technology\n",
      "- **Full-Time Employees:** 228,000\n",
      "\n",
      "#### Financial Information:\n",
      "- **Current Price:** $402.69\n",
      "- **Previous Close:** $398.43\n",
      "- **Market Cap:** $2.993 trillion\n",
      "- **Dividend Rate:** $3.00\n",
      "- **Dividend Yield:** 0.74%\n",
      "- **P/E Ratio (TTM):** 34.10\n",
      "- **Forward P/E Ratio:** 26.44\n",
      "- **EPS (TTM):** 11.81\n",
      "- **Forward EPS:** 15.23\n",
      "- **Revenue (TTM):** $245.12 billion\n",
      "- **Net Income (TTM):** $88.14 billion\n",
      "- **Profit Margin:** 35.96%\n",
      "- **Operating Cash Flow:** $118.55 billion\n",
      "- **Free Cash Flow:** $56.71 billion\n",
      "\n",
      "#### Stock Information:\n",
      "- **52-Week Low:** $309.45\n",
      "- **52-Week High:** $468.35\n",
      "- **Volume:** 19,197,742\n",
      "- **Average Volume:** 19,985,416\n",
      "- **Market Time:** EDT\n",
      "\n",
      "#### Analyst Recommendations:\n",
      "- **Recommendation Mean:** 1.7 (Buy)\n",
      "- **Target High Price:** $600.00\n",
      "- **Target Low Price:** $440.00\n",
      "- **Target Mean Price:** $497.69\n",
      "- **Number of Analyst Opinions:** 46\n",
      "\n",
      "#### Financial Ratios:\n",
      "- **Payout Ratio:** 24.83%\n",
      "- **Beta:** 0.894\n",
      "- **Return on Assets:** 14.80%\n",
      "- **Return on Equity:** 37.13%\n",
      "- **Debt to Equity:** 36.45%\n",
      "- **Gross Margins:** 69.76%\n",
      "- **Operating Margins:** 43.14%\n",
      "\n",
      "For more information and investor relations, you can visit the [Microsoft Investor Relations Website](http://www.microsoft.com/investor/default.aspx).\u001b[0m\n",
      "\n",
      "\u001b[1m> Finished chain.\u001b[0m\n"
     ]
    },
    {
     "data": {
      "text/plain": [
       "{'input': 'give me information about microsoft',\n",
       " 'output': '### Microsoft Corporation (MSFT)\\n\\n- **Description:** Microsoft Corporation develops and supports software, services, devices, and solutions worldwide. The company operates in three segments: Productivity and Business Processes, Intelligent Cloud, and More Personal Computing.\\n\\n- **Address:** One Microsoft Way, Redmond, WA, 98052-6399, United States\\n- **Phone:** 425 882 8080\\n- **Website:** [Microsoft Website](https://www.microsoft.com)\\n- **Industry:** Software - Infrastructure\\n- **Sector:** Technology\\n- **Full-Time Employees:** 228,000\\n\\n#### Financial Information:\\n- **Current Price:** $402.69\\n- **Previous Close:** $398.43\\n- **Market Cap:** $2.993 trillion\\n- **Dividend Rate:** $3.00\\n- **Dividend Yield:** 0.74%\\n- **P/E Ratio (TTM):** 34.10\\n- **Forward P/E Ratio:** 26.44\\n- **EPS (TTM):** 11.81\\n- **Forward EPS:** 15.23\\n- **Revenue (TTM):** $245.12 billion\\n- **Net Income (TTM):** $88.14 billion\\n- **Profit Margin:** 35.96%\\n- **Operating Cash Flow:** $118.55 billion\\n- **Free Cash Flow:** $56.71 billion\\n\\n#### Stock Information:\\n- **52-Week Low:** $309.45\\n- **52-Week High:** $468.35\\n- **Volume:** 19,197,742\\n- **Average Volume:** 19,985,416\\n- **Market Time:** EDT\\n\\n#### Analyst Recommendations:\\n- **Recommendation Mean:** 1.7 (Buy)\\n- **Target High Price:** $600.00\\n- **Target Low Price:** $440.00\\n- **Target Mean Price:** $497.69\\n- **Number of Analyst Opinions:** 46\\n\\n#### Financial Ratios:\\n- **Payout Ratio:** 24.83%\\n- **Beta:** 0.894\\n- **Return on Assets:** 14.80%\\n- **Return on Equity:** 37.13%\\n- **Debt to Equity:** 36.45%\\n- **Gross Margins:** 69.76%\\n- **Operating Margins:** 43.14%\\n\\nFor more information and investor relations, you can visit the [Microsoft Investor Relations Website](http://www.microsoft.com/investor/default.aspx).'}"
      ]
     },
     "execution_count": 10,
     "metadata": {},
     "output_type": "execute_result"
    }
   ],
   "source": [
    "agent_executor.invoke({\"input\": \"give me information about microsoft\"})"
   ]
  },
  {
   "cell_type": "code",
   "execution_count": null,
   "metadata": {},
   "outputs": [],
   "source": [
    "agent_executor.invoke({\"input\": \"what's the value of previous high, low, open and close of tesla\"})"
   ]
  },
  {
   "cell_type": "code",
   "execution_count": null,
   "metadata": {},
   "outputs": [],
   "source": [
    "agent_executor.invoke({\"input\": \"what's the value of previous high, low, open and close, and current price of apple. Give me in table format\"})"
   ]
  },
  {
   "cell_type": "code",
   "execution_count": null,
   "metadata": {},
   "outputs": [],
   "source": [
    "agent_executor.invoke({\"input\": \"give me apple market data for past 1 month in json format\"})"
   ]
  },
  {
   "cell_type": "markdown",
   "metadata": {},
   "source": [
    "### Actions, Splits and Dividends"
   ]
  },
  {
   "cell_type": "code",
   "execution_count": null,
   "metadata": {},
   "outputs": [],
   "source": [
    "agent_executor.invoke({\"input\": \"give me splits for apple\"})"
   ]
  },
  {
   "cell_type": "code",
   "execution_count": null,
   "metadata": {},
   "outputs": [],
   "source": [
    "agent_executor.invoke({\"input\": \"give me dividends for Goldman Sachs\"})"
   ]
  },
  {
   "cell_type": "code",
   "execution_count": 11,
   "metadata": {},
   "outputs": [
    {
     "name": "stdout",
     "output_type": "stream",
     "text": [
      "\n",
      "\n",
      "\u001b[1m> Entering new AgentExecutor chain...\u001b[0m\n",
      "\u001b[32;1m\u001b[1;3m\n",
      "Invoking: `get_stock_actions` with `{'ticker': 'GS', 'action_type': 'dividends'}`\n",
      "\n",
      "\n",
      "\u001b[0m\u001b[38;5;200m\u001b[1;3m{Timestamp('1999-08-10 00:00:00-0400', tz='America/New_York'): 0.12, Timestamp('1999-10-21 00:00:00-0400', tz='America/New_York'): 0.12, Timestamp('2000-01-20 00:00:00-0500', tz='America/New_York'): 0.12, Timestamp('2000-04-19 00:00:00-0400', tz='America/New_York'): 0.12, Timestamp('2000-07-20 00:00:00-0400', tz='America/New_York'): 0.12, Timestamp('2000-10-19 00:00:00-0400', tz='America/New_York'): 0.12, Timestamp('2001-01-18 00:00:00-0500', tz='America/New_York'): 0.12, Timestamp('2001-04-20 00:00:00-0400', tz='America/New_York'): 0.12, Timestamp('2001-07-27 00:00:00-0400', tz='America/New_York'): 0.12, Timestamp('2001-10-25 00:00:00-0400', tz='America/New_York'): 0.12, Timestamp('2002-01-17 00:00:00-0500', tz='America/New_York'): 0.12, Timestamp('2002-04-26 00:00:00-0400', tz='America/New_York'): 0.12, Timestamp('2002-07-26 00:00:00-0400', tz='America/New_York'): 0.12, Timestamp('2002-10-24 00:00:00-0400', tz='America/New_York'): 0.12, Timestamp('2002-12-26 00:00:00-0500', tz='America/New_York'): 0.12, Timestamp('2003-01-24 00:00:00-0500', tz='America/New_York'): 0.12, Timestamp('2003-04-25 00:00:00-0400', tz='America/New_York'): 0.12, Timestamp('2003-07-25 00:00:00-0400', tz='America/New_York'): 0.25, Timestamp('2003-10-23 00:00:00-0400', tz='America/New_York'): 0.25, Timestamp('2004-01-23 00:00:00-0500', tz='America/New_York'): 0.25, Timestamp('2004-04-23 00:00:00-0400', tz='America/New_York'): 0.25, Timestamp('2004-07-23 00:00:00-0400', tz='America/New_York'): 0.25, Timestamp('2004-10-21 00:00:00-0400', tz='America/New_York'): 0.25, Timestamp('2005-01-21 00:00:00-0500', tz='America/New_York'): 0.25, Timestamp('2005-04-22 00:00:00-0400', tz='America/New_York'): 0.25, Timestamp('2005-07-22 00:00:00-0400', tz='America/New_York'): 0.25, Timestamp('2005-10-20 00:00:00-0400', tz='America/New_York'): 0.25, Timestamp('2006-01-20 00:00:00-0500', tz='America/New_York'): 0.25, Timestamp('2006-04-21 00:00:00-0400', tz='America/New_York'): 0.35, Timestamp('2006-07-21 00:00:00-0400', tz='America/New_York'): 0.35, Timestamp('2006-10-19 00:00:00-0400', tz='America/New_York'): 0.35, Timestamp('2007-01-19 00:00:00-0500', tz='America/New_York'): 0.35, Timestamp('2007-04-20 00:00:00-0400', tz='America/New_York'): 0.35, Timestamp('2007-07-27 00:00:00-0400', tz='America/New_York'): 0.35, Timestamp('2007-10-25 00:00:00-0400', tz='America/New_York'): 0.35, Timestamp('2008-01-25 00:00:00-0500', tz='America/New_York'): 0.35, Timestamp('2008-04-25 00:00:00-0400', tz='America/New_York'): 0.35, Timestamp('2008-07-25 00:00:00-0400', tz='America/New_York'): 0.35, Timestamp('2008-10-23 00:00:00-0400', tz='America/New_York'): 0.35, Timestamp('2009-02-20 00:00:00-0500', tz='America/New_York'): 0.467, Timestamp('2009-05-21 00:00:00-0400', tz='America/New_York'): 0.35, Timestamp('2009-08-21 00:00:00-0400', tz='America/New_York'): 0.35, Timestamp('2009-11-30 00:00:00-0500', tz='America/New_York'): 0.35, Timestamp('2010-02-26 00:00:00-0500', tz='America/New_York'): 0.35, Timestamp('2010-05-27 00:00:00-0400', tz='America/New_York'): 0.35, Timestamp('2010-08-30 00:00:00-0400', tz='America/New_York'): 0.35, Timestamp('2010-11-30 00:00:00-0500', tz='America/New_York'): 0.35, Timestamp('2011-02-28 00:00:00-0500', tz='America/New_York'): 0.35, Timestamp('2011-05-27 00:00:00-0400', tz='America/New_York'): 0.35, Timestamp('2011-08-30 00:00:00-0400', tz='America/New_York'): 0.35, Timestamp('2011-11-29 00:00:00-0500', tz='America/New_York'): 0.35, Timestamp('2012-02-28 00:00:00-0500', tz='America/New_York'): 0.35, Timestamp('2012-05-29 00:00:00-0400', tz='America/New_York'): 0.46, Timestamp('2012-08-28 00:00:00-0400', tz='America/New_York'): 0.46, Timestamp('2012-11-28 00:00:00-0500', tz='America/New_York'): 0.5, Timestamp('2013-02-26 00:00:00-0500', tz='America/New_York'): 0.5, Timestamp('2013-05-28 00:00:00-0400', tz='America/New_York'): 0.5, Timestamp('2013-08-28 00:00:00-0400', tz='America/New_York'): 0.5, Timestamp('2013-11-27 00:00:00-0500', tz='America/New_York'): 0.55, Timestamp('2014-02-26 00:00:00-0500', tz='America/New_York'): 0.55, Timestamp('2014-05-28 00:00:00-0400', tz='America/New_York'): 0.55, Timestamp('2014-08-27 00:00:00-0400', tz='America/New_York'): 0.55, Timestamp('2014-11-28 00:00:00-0500', tz='America/New_York'): 0.6, Timestamp('2015-02-26 00:00:00-0500', tz='America/New_York'): 0.6, Timestamp('2015-05-28 00:00:00-0400', tz='America/New_York'): 0.65, Timestamp('2015-08-28 00:00:00-0400', tz='America/New_York'): 0.65, Timestamp('2015-11-30 00:00:00-0500', tz='America/New_York'): 0.65, Timestamp('2016-02-29 00:00:00-0500', tz='America/New_York'): 0.65, Timestamp('2016-05-27 00:00:00-0400', tz='America/New_York'): 0.65, Timestamp('2016-08-30 00:00:00-0400', tz='America/New_York'): 0.65, Timestamp('2016-11-29 00:00:00-0500', tz='America/New_York'): 0.65, Timestamp('2017-02-28 00:00:00-0500', tz='America/New_York'): 0.65, Timestamp('2017-05-30 00:00:00-0400', tz='America/New_York'): 0.75, Timestamp('2017-08-29 00:00:00-0400', tz='America/New_York'): 0.75, Timestamp('2017-11-29 00:00:00-0500', tz='America/New_York'): 0.75, Timestamp('2018-02-28 00:00:00-0500', tz='America/New_York'): 0.75, Timestamp('2018-05-30 00:00:00-0400', tz='America/New_York'): 0.8, Timestamp('2018-08-29 00:00:00-0400', tz='America/New_York'): 0.8, Timestamp('2018-11-29 00:00:00-0500', tz='America/New_York'): 0.8, Timestamp('2019-02-27 00:00:00-0500', tz='America/New_York'): 0.8, Timestamp('2019-05-29 00:00:00-0400', tz='America/New_York'): 0.85, Timestamp('2019-08-29 00:00:00-0400', tz='America/New_York'): 1.25, Timestamp('2019-11-29 00:00:00-0500', tz='America/New_York'): 1.25, Timestamp('2020-02-28 00:00:00-0500', tz='America/New_York'): 1.25, Timestamp('2020-05-29 00:00:00-0400', tz='America/New_York'): 1.25, Timestamp('2020-08-31 00:00:00-0400', tz='America/New_York'): 1.25, Timestamp('2020-12-01 00:00:00-0500', tz='America/New_York'): 1.25, Timestamp('2021-03-01 00:00:00-0500', tz='America/New_York'): 1.25, Timestamp('2021-05-28 00:00:00-0400', tz='America/New_York'): 1.25, Timestamp('2021-08-31 00:00:00-0400', tz='America/New_York'): 2.0, Timestamp('2021-12-01 00:00:00-0500', tz='America/New_York'): 2.0, Timestamp('2022-03-01 00:00:00-0500', tz='America/New_York'): 2.0, Timestamp('2022-05-31 00:00:00-0400', tz='America/New_York'): 2.0, Timestamp('2022-08-31 00:00:00-0400', tz='America/New_York'): 2.5, Timestamp('2022-11-30 00:00:00-0500', tz='America/New_York'): 2.5, Timestamp('2023-03-01 00:00:00-0500', tz='America/New_York'): 2.5, Timestamp('2023-05-31 00:00:00-0400', tz='America/New_York'): 2.5, Timestamp('2023-08-30 00:00:00-0400', tz='America/New_York'): 2.75, Timestamp('2023-11-29 00:00:00-0500', tz='America/New_York'): 2.75, Timestamp('2024-02-28 00:00:00-0500', tz='America/New_York'): 2.75, Timestamp('2024-05-30 00:00:00-0400', tz='America/New_York'): 2.75}\u001b[0m\u001b[32;1m\u001b[1;3m\n",
      "Invoking: `get_stock_actions` with `{'ticker': 'GS', 'action_type': 'splits'}`\n",
      "\n",
      "\n",
      "\u001b[0m\u001b[38;5;200m\u001b[1;3m{}\u001b[0m\u001b[32;1m\u001b[1;3mGoldman Sachs (GS) has a history of dividends as follows:\n",
      "\n",
      "- August 10, 1999: $0.12\n",
      "- October 21, 1999: $0.12\n",
      "- January 20, 2000: $0.12\n",
      "- April 19, 2000: $0.12\n",
      "- July 20, 2000: $0.12\n",
      "- ... (dividends continue)\n",
      "\n",
      "There is no record of stock splits for Goldman Sachs (GS).\u001b[0m\n",
      "\n",
      "\u001b[1m> Finished chain.\u001b[0m\n"
     ]
    },
    {
     "data": {
      "text/plain": [
       "{'input': 'give me dividends and splits for Goldman Sachs',\n",
       " 'output': 'Goldman Sachs (GS) has a history of dividends as follows:\\n\\n- August 10, 1999: $0.12\\n- October 21, 1999: $0.12\\n- January 20, 2000: $0.12\\n- April 19, 2000: $0.12\\n- July 20, 2000: $0.12\\n- ... (dividends continue)\\n\\nThere is no record of stock splits for Goldman Sachs (GS).'}"
      ]
     },
     "execution_count": 11,
     "metadata": {},
     "output_type": "execute_result"
    }
   ],
   "source": [
    "agent_executor.invoke({\"input\": \"give me dividends and splits for Goldman Sachs\"})"
   ]
  },
  {
   "cell_type": "markdown",
   "metadata": {},
   "source": [
    "### Shares Count"
   ]
  },
  {
   "cell_type": "code",
   "execution_count": null,
   "metadata": {},
   "outputs": [],
   "source": [
    "agent_executor.invoke({\"input\": \"Tell me the number of Microsoft shares outstanding since January 1, 2022.\"})"
   ]
  },
  {
   "cell_type": "code",
   "execution_count": null,
   "metadata": {},
   "outputs": [],
   "source": [
    "agent_executor.invoke({\"input\": \"How many shares did Microsoft have outstanding between January 1, 2022, and December 31, 2022?\"})"
   ]
  },
  {
   "cell_type": "code",
   "execution_count": null,
   "metadata": {},
   "outputs": [],
   "source": [
    "agent_executor.invoke({\"input\": \"What is the most recent number of Microsoft shares outstanding?\"})"
   ]
  },
  {
   "cell_type": "markdown",
   "metadata": {},
   "source": [
    "### Financial Statements"
   ]
  },
  {
   "cell_type": "code",
   "execution_count": null,
   "metadata": {},
   "outputs": [],
   "source": [
    "agent_executor.invoke({\"input\": \"What is the most recent income statement for Apple?\"})"
   ]
  },
  {
   "cell_type": "code",
   "execution_count": null,
   "metadata": {},
   "outputs": [],
   "source": [
    "agent_executor.invoke({\"input\": \"Can you show me the latest quarterly income statement for Tesla?\"})"
   ]
  },
  {
   "cell_type": "code",
   "execution_count": null,
   "metadata": {},
   "outputs": [],
   "source": [
    "agent_executor.invoke({\"input\": \"I need the balance sheet for Microsoft.\"})"
   ]
  },
  {
   "cell_type": "code",
   "execution_count": null,
   "metadata": {},
   "outputs": [],
   "source": [
    "agent_executor.invoke({\"input\": \"Please provide the quarterly balance sheet for Amazon.\"})"
   ]
  },
  {
   "cell_type": "code",
   "execution_count": null,
   "metadata": {},
   "outputs": [],
   "source": [
    "agent_executor.invoke({\"input\": \"Show me the cash flow statement for Google in the year 2022.\"})"
   ]
  },
  {
   "cell_type": "code",
   "execution_count": 12,
   "metadata": {},
   "outputs": [
    {
     "name": "stdout",
     "output_type": "stream",
     "text": [
      "\n",
      "\n",
      "\u001b[1m> Entering new AgentExecutor chain...\u001b[0m\n",
      "\u001b[32;1m\u001b[1;3m\n",
      "Invoking: `get_financials` with `{'ticker': 'NFLX', 'financial_type': 'quarterly_cashflow'}`\n",
      "\n",
      "\n",
      "\u001b[0m\u001b[33;1m\u001b[1;3m{Timestamp('2024-06-30 00:00:00'): {'Free Cash Flow': 1212560000.0, 'Repurchase Of Capital Stock': -1599998000.0, 'Repayment Of Debt': 0.0, 'Issuance Of Capital Stock': 118750000.0, 'Capital Expenditure': -78287000.0, 'End Cash Position': 6627045000.0, 'Beginning Cash Position': 7026589000.0, 'Effect Of Exchange Rate Changes': -122723000.0, 'Changes In Cash': -276821000.0, 'Financing Cash Flow': -1489381000.0, 'Cash Flow From Continuing Financing Activities': -1489381000.0, 'Net Other Financing Charges': -8133000.0, 'Net Common Stock Issuance': -1481248000.0, 'Common Stock Payments': -1599998000.0, 'Common Stock Issuance': 118750000.0, 'Net Issuance Payments Of Debt': 0.0, 'Net Long Term Debt Issuance': 0.0, 'Long Term Debt Payments': 0.0, 'Investing Cash Flow': -78287000.0, 'Cash Flow From Continuing Investing Activities': -78287000.0, 'Net Investment Purchase And Sale': 0.0, 'Sale Of Investment': 0.0, 'Purchase Of Investment': 0.0, 'Net Business Purchase And Sale': nan, 'Purchase Of Business': nan, 'Net PPE Purchase And Sale': -78287000.0, 'Purchase Of PPE': -78287000.0, 'Operating Cash Flow': 1290847000.0, 'Cash Flow From Continuing Operating Activities': 1290847000.0, 'Change In Working Capital': -247227000.0, 'Change In Other Working Capital': -84607000.0, 'Change In Other Current Assets': -28959000.0, 'Change In Payables And Accrued Expense': -133661000.0, 'Change In Accrued Expense': -114303000.0, 'Change In Payable': -19358000.0, 'Change In Account Payable': -19358000.0, 'Other Non Cash Items': -4276836000.0, 'Stock Based Compensation': 68766000.0, 'Deferred Tax': -209387000.0, 'Deferred Income Tax': -209387000.0, 'Depreciation Amortization Depletion': 3850917000.0, 'Depreciation And Amortization': 3850917000.0, 'Amortization Cash Flow': 3769690000.0, 'Amortization Of Intangibles': 3769690000.0, 'Depreciation': 81227000.0, 'Operating Gains Losses': -42692000.0, 'Net Foreign Currency Exchange Gain Loss': -42692000.0, 'Net Income From Continuing Operations': 2147306000.0}, Timestamp('2024-03-31 00:00:00'): {'Free Cash Flow': 2136808000.0, 'Repurchase Of Capital Stock': -2000000000.0, 'Repayment Of Debt': -400000000.0, 'Issuance Of Capital Stock': 268881000.0, 'Capital Expenditure': -75714000.0, 'End Cash Position': 7026589000.0, 'Beginning Cash Position': 7118515000.0, 'Effect Of Exchange Rate Changes': -95790000.0, 'Changes In Cash': 3864000.0, 'Financing Cash Flow': -2132944000.0, 'Cash Flow From Continuing Financing Activities': -2132944000.0, 'Net Other Financing Charges': -1825000.0, 'Net Common Stock Issuance': -1731119000.0, 'Common Stock Payments': -2000000000.0, 'Common Stock Issuance': 268881000.0, 'Net Issuance Payments Of Debt': -400000000.0, 'Net Long Term Debt Issuance': -400000000.0, 'Long Term Debt Payments': -400000000.0, 'Investing Cash Flow': -75714000.0, 'Cash Flow From Continuing Investing Activities': -75714000.0, 'Net Investment Purchase And Sale': 0.0, 'Sale Of Investment': nan, 'Purchase Of Investment': 0.0, 'Net Business Purchase And Sale': nan, 'Purchase Of Business': nan, 'Net PPE Purchase And Sale': -75714000.0, 'Purchase Of PPE': -75714000.0, 'Operating Cash Flow': 2212522000.0, 'Cash Flow From Continuing Operating Activities': 2212522000.0, 'Change In Working Capital': 105034000.0, 'Change In Other Working Capital': -39532000.0, 'Change In Other Current Assets': 38049000.0, 'Change In Payables And Accrued Expense': 106517000.0, 'Change In Accrued Expense': 251782000.0, 'Change In Payable': -145265000.0, 'Change In Account Payable': -145265000.0, 'Other Non Cash Items': -3821227000.0, 'Stock Based Compensation': 76345000.0, 'Deferred Tax': -107077000.0, 'Deferred Income Tax': -107077000.0, 'Depreciation Amortization Depletion': 3758039000.0, 'Depreciation And Amortization': 3758039000.0, 'Amortization Cash Flow': 3670805000.0, 'Amortization Of Intangibles': 3670805000.0, 'Depreciation': 87234000.0, 'Operating Gains Losses': -130801000.0, 'Net Foreign Currency Exchange Gain Loss': -130801000.0, 'Net Income From Continuing Operations': 2332209000.0}, Timestamp('2023-12-31 00:00:00'): {'Free Cash Flow': 1581382000.0, 'Repurchase Of Capital Stock': -2500000000.0, 'Repayment Of Debt': 0.0, 'Issuance Of Capital Stock': 51427000.0, 'Capital Expenditure': -81632000.0, 'End Cash Position': 7118515000.0, 'Beginning Cash Position': 7356836000.0, 'Effect Of Exchange Rate Changes': 139342000.0, 'Changes In Cash': -377663000.0, 'Financing Cash Flow': -2452273000.0, 'Cash Flow From Continuing Financing Activities': -2452273000.0, 'Net Other Financing Charges': -3700000.0, 'Net Common Stock Issuance': -2448573000.0, 'Common Stock Payments': -2500000000.0, 'Common Stock Issuance': 51427000.0, 'Net Issuance Payments Of Debt': 0.0, 'Net Long Term Debt Issuance': 0.0, 'Long Term Debt Payments': 0.0, 'Investing Cash Flow': 411596000.0, 'Cash Flow From Continuing Investing Activities': 411596000.0, 'Net Investment Purchase And Sale': 493228000.0, 'Sale Of Investment': 493228000.0, 'Purchase Of Investment': 0.0, 'Net Business Purchase And Sale': 0.0, 'Purchase Of Business': 0.0, 'Net PPE Purchase And Sale': -81632000.0, 'Purchase Of PPE': -81632000.0, 'Operating Cash Flow': 1663014000.0, 'Cash Flow From Continuing Operating Activities': 1663014000.0, 'Change In Working Capital': 59004000.0, 'Change In Other Working Capital': 53510000.0, 'Change In Other Current Assets': -13198000.0, 'Change In Payables And Accrued Expense': 18692000.0, 'Change In Accrued Expense': -194536000.0, 'Change In Payable': 213228000.0, 'Change In Account Payable': 213228000.0, 'Other Non Cash Items': -3325236000.0, 'Stock Based Compensation': 82519000.0, 'Deferred Tax': -171128000.0, 'Deferred Income Tax': -171128000.0, 'Depreciation Amortization Depletion': 3840646000.0, 'Depreciation And Amortization': 3840646000.0, 'Amortization Cash Flow': 3754079000.0, 'Amortization Of Intangibles': 3754079000.0, 'Depreciation': 86567000.0, 'Operating Gains Losses': 239371000.0, 'Net Foreign Currency Exchange Gain Loss': 239371000.0, 'Net Income From Continuing Operations': 937838000.0}, Timestamp('2023-09-30 00:00:00'): {'Free Cash Flow': 1888386000.0, 'Repurchase Of Capital Stock': -2500100000.0, 'Repayment Of Debt': 0.0, 'Issuance Of Capital Stock': 57818000.0, 'Capital Expenditure': -103929000.0, 'End Cash Position': 7356836000.0, 'Beginning Cash Position': 7666265000.0, 'Effect Of Exchange Rate Changes': -122707000.0, 'Changes In Cash': -186722000.0, 'Financing Cash Flow': -2475108000.0, 'Cash Flow From Continuing Financing Activities': -2475108000.0, 'Net Other Financing Charges': -32826000.0, 'Net Common Stock Issuance': -2442282000.0, 'Common Stock Payments': -2500100000.0, 'Common Stock Issuance': 57818000.0, 'Net Issuance Payments Of Debt': 0.0, 'Net Long Term Debt Issuance': 0.0, 'Long Term Debt Payments': 0.0, 'Investing Cash Flow': 296071000.0, 'Cash Flow From Continuing Investing Activities': 296071000.0, 'Net Investment Purchase And Sale': 400000000.0, 'Sale Of Investment': 400000000.0, 'Purchase Of Investment': 0.0, 'Net Business Purchase And Sale': 0.0, 'Purchase Of Business': 0.0, 'Net PPE Purchase And Sale': -103929000.0, 'Purchase Of PPE': -103929000.0, 'Operating Cash Flow': 1992315000.0, 'Cash Flow From Continuing Operating Activities': 1992315000.0, 'Change In Working Capital': -75745000.0, 'Change In Other Working Capital': -46092000.0, 'Change In Other Current Assets': 103766000.0, 'Change In Payables And Accrued Expense': -133419000.0, 'Change In Accrued Expense': -65029000.0, 'Change In Payable': -68390000.0, 'Change In Account Payable': -68390000.0, 'Other Non Cash Items': -3094140000.0, 'Stock Based Compensation': 79720000.0, 'Deferred Tax': -86277000.0, 'Deferred Income Tax': -86277000.0, 'Depreciation Amortization Depletion': 3664013000.0, 'Depreciation And Amortization': 3664013000.0, 'Amortization Cash Flow': 3573353000.0, 'Amortization Of Intangibles': 3573353000.0, 'Depreciation': 90660000.0, 'Operating Gains Losses': -172678000.0, 'Net Foreign Currency Exchange Gain Loss': -172678000.0, 'Net Income From Continuing Operations': 1677422000.0}, Timestamp('2023-06-30 00:00:00'): {'Free Cash Flow': 1339260000.0, 'Repurchase Of Capital Stock': -645146000.0, 'Repayment Of Debt': 0.0, 'Issuance Of Capital Stock': 34717000.0, 'Capital Expenditure': -100972000.0, 'End Cash Position': 7666265000.0, 'Beginning Cash Position': 6738019000.0, 'Effect Of Exchange Rate Changes': 39626000.0, 'Changes In Cash': 888620000.0, 'Financing Cash Flow': -649349000.0, 'Cash Flow From Continuing Financing Activities': -649349000.0, 'Net Other Financing Charges': -38920000.0, 'Net Common Stock Issuance': -610429000.0, 'Common Stock Payments': -645146000.0, 'Common Stock Issuance': 34717000.0, 'Net Issuance Payments Of Debt': 0.0, 'Net Long Term Debt Issuance': 0.0, 'Long Term Debt Payments': 0.0, 'Investing Cash Flow': 97737000.0, 'Cash Flow From Continuing Investing Activities': 97737000.0, 'Net Investment Purchase And Sale': 198709000.0, 'Sale Of Investment': 501937000.0, 'Purchase Of Investment': -303228000.0, 'Net Business Purchase And Sale': 0.0, 'Purchase Of Business': 0.0, 'Net PPE Purchase And Sale': -100972000.0, 'Purchase Of PPE': -100972000.0, 'Operating Cash Flow': 1440232000.0, 'Cash Flow From Continuing Operating Activities': 1440232000.0, 'Change In Working Capital': -35189000.0, 'Change In Other Working Capital': -68303000.0, 'Change In Other Current Assets': -183049000.0, 'Change In Payables And Accrued Expense': 216163000.0, 'Change In Accrued Expense': 177831000.0, 'Change In Payable': 38332000.0, 'Change In Account Payable': 38332000.0, 'Other Non Cash Items': -3515405000.0, 'Stock Based Compensation': 78030000.0, 'Deferred Tax': -103172000.0, 'Deferred Income Tax': -103172000.0, 'Depreciation Amortization Depletion': 3499406000.0, 'Depreciation And Amortization': 3499406000.0, 'Amortization Cash Flow': 3410021000.0, 'Amortization Of Intangibles': 3410021000.0, 'Depreciation': 89385000.0, 'Operating Gains Losses': 28952000.0, 'Net Foreign Currency Exchange Gain Loss': 28952000.0, 'Net Income From Continuing Operations': 1487610000.0}, Timestamp('2023-03-31 00:00:00'): {'Free Cash Flow': nan, 'Repurchase Of Capital Stock': nan, 'Repayment Of Debt': nan, 'Issuance Of Capital Stock': nan, 'Capital Expenditure': nan, 'End Cash Position': nan, 'Beginning Cash Position': nan, 'Effect Of Exchange Rate Changes': nan, 'Changes In Cash': nan, 'Financing Cash Flow': nan, 'Cash Flow From Continuing Financing Activities': nan, 'Net Other Financing Charges': nan, 'Net Common Stock Issuance': nan, 'Common Stock Payments': nan, 'Common Stock Issuance': nan, 'Net Issuance Payments Of Debt': nan, 'Net Long Term Debt Issuance': nan, 'Long Term Debt Payments': nan, 'Investing Cash Flow': nan, 'Cash Flow From Continuing Investing Activities': nan, 'Net Investment Purchase And Sale': nan, 'Sale Of Investment': nan, 'Purchase Of Investment': nan, 'Net Business Purchase And Sale': 0.0, 'Purchase Of Business': 0.0, 'Net PPE Purchase And Sale': nan, 'Purchase Of PPE': nan, 'Operating Cash Flow': nan, 'Cash Flow From Continuing Operating Activities': nan, 'Change In Working Capital': nan, 'Change In Other Working Capital': nan, 'Change In Other Current Assets': nan, 'Change In Payables And Accrued Expense': nan, 'Change In Accrued Expense': nan, 'Change In Payable': nan, 'Change In Account Payable': nan, 'Other Non Cash Items': nan, 'Stock Based Compensation': nan, 'Deferred Tax': nan, 'Deferred Income Tax': nan, 'Depreciation Amortization Depletion': nan, 'Depreciation And Amortization': nan, 'Amortization Cash Flow': nan, 'Amortization Of Intangibles': nan, 'Depreciation': nan, 'Operating Gains Losses': nan, 'Net Foreign Currency Exchange Gain Loss': nan, 'Net Income From Continuing Operations': nan}, Timestamp('2022-12-31 00:00:00'): {'Free Cash Flow': nan, 'Repurchase Of Capital Stock': nan, 'Repayment Of Debt': nan, 'Issuance Of Capital Stock': nan, 'Capital Expenditure': nan, 'End Cash Position': nan, 'Beginning Cash Position': nan, 'Effect Of Exchange Rate Changes': nan, 'Changes In Cash': nan, 'Financing Cash Flow': nan, 'Cash Flow From Continuing Financing Activities': nan, 'Net Other Financing Charges': nan, 'Net Common Stock Issuance': nan, 'Common Stock Payments': nan, 'Common Stock Issuance': nan, 'Net Issuance Payments Of Debt': nan, 'Net Long Term Debt Issuance': nan, 'Long Term Debt Payments': nan, 'Investing Cash Flow': nan, 'Cash Flow From Continuing Investing Activities': nan, 'Net Investment Purchase And Sale': nan, 'Sale Of Investment': nan, 'Purchase Of Investment': nan, 'Net Business Purchase And Sale': -563990000.0, 'Purchase Of Business': -563990000.0, 'Net PPE Purchase And Sale': nan, 'Purchase Of PPE': nan, 'Operating Cash Flow': nan, 'Cash Flow From Continuing Operating Activities': nan, 'Change In Working Capital': nan, 'Change In Other Working Capital': nan, 'Change In Other Current Assets': nan, 'Change In Payables And Accrued Expense': nan, 'Change In Accrued Expense': nan, 'Change In Payable': nan, 'Change In Account Payable': nan, 'Other Non Cash Items': nan, 'Stock Based Compensation': nan, 'Deferred Tax': nan, 'Deferred Income Tax': nan, 'Depreciation Amortization Depletion': nan, 'Depreciation And Amortization': nan, 'Amortization Cash Flow': nan, 'Amortization Of Intangibles': nan, 'Depreciation': nan, 'Operating Gains Losses': nan, 'Net Foreign Currency Exchange Gain Loss': nan, 'Net Income From Continuing Operations': nan}}\u001b[0m\u001b[32;1m\u001b[1;3mHere is the quarterly cash flow statement for Netflix for the last 3 years (4th quarter):\n",
      "\n",
      "1. Q4 2023:\n",
      "   - Free Cash Flow: $1,581,382,000\n",
      "   - Repurchase Of Capital Stock: -$2,500,000,000\n",
      "   - Repayment Of Debt: $0\n",
      "   - Issuance Of Capital Stock: $51,427,000\n",
      "   - Capital Expenditure: -$81,632,000\n",
      "   - End Cash Position: $7,118,515,000\n",
      "   - Beginning Cash Position: $7,356,836,000\n",
      "   - Changes In Cash: -$377,663,000\n",
      "   - Operating Cash Flow: $1,663,014,000\n",
      "   - Investing Cash Flow: $411,596,000\n",
      "   - Financing Cash Flow: -$2,452,273,000\n",
      "\n",
      "2. Q4 2022:\n",
      "   - Data not available\n",
      "\n",
      "3. Q4 2021:\n",
      "   - Data not available\n",
      "\n",
      "Please note that the data for Q4 2022 and Q4 2021 is not available. Let me know if you need more information.\u001b[0m\n",
      "\n",
      "\u001b[1m> Finished chain.\u001b[0m\n"
     ]
    },
    {
     "data": {
      "text/plain": [
       "{'input': 'Can you get the last 3 years quarterly cash flow statement of 4th quarter for Netflix?',\n",
       " 'output': 'Here is the quarterly cash flow statement for Netflix for the last 3 years (4th quarter):\\n\\n1. Q4 2023:\\n   - Free Cash Flow: $1,581,382,000\\n   - Repurchase Of Capital Stock: -$2,500,000,000\\n   - Repayment Of Debt: $0\\n   - Issuance Of Capital Stock: $51,427,000\\n   - Capital Expenditure: -$81,632,000\\n   - End Cash Position: $7,118,515,000\\n   - Beginning Cash Position: $7,356,836,000\\n   - Changes In Cash: -$377,663,000\\n   - Operating Cash Flow: $1,663,014,000\\n   - Investing Cash Flow: $411,596,000\\n   - Financing Cash Flow: -$2,452,273,000\\n\\n2. Q4 2022:\\n   - Data not available\\n\\n3. Q4 2021:\\n   - Data not available\\n\\nPlease note that the data for Q4 2022 and Q4 2021 is not available. Let me know if you need more information.'}"
      ]
     },
     "execution_count": 12,
     "metadata": {},
     "output_type": "execute_result"
    }
   ],
   "source": [
    "agent_executor.invoke({\"input\": \"Can you get the last 3 years quarterly cash flow statement of 4th quarter for Netflix?\"})"
   ]
  },
  {
   "cell_type": "markdown",
   "metadata": {},
   "source": [
    "### Holders Info"
   ]
  },
  {
   "cell_type": "code",
   "execution_count": null,
   "metadata": {},
   "outputs": [],
   "source": [
    "agent_executor.invoke({\"input\": \"Who are the major holders of Apple?\"})"
   ]
  },
  {
   "cell_type": "code",
   "execution_count": null,
   "metadata": {},
   "outputs": [],
   "source": [
    "agent_executor.invoke({\"input\": \"Can you show me the institutional holders of Tesla?\"})"
   ]
  },
  {
   "cell_type": "code",
   "execution_count": null,
   "metadata": {},
   "outputs": [],
   "source": [
    "agent_executor.invoke({\"input\": \"Show me the recent insider transactions for Microsoft.\"})"
   ]
  },
  {
   "cell_type": "code",
   "execution_count": null,
   "metadata": {},
   "outputs": [],
   "source": [
    "agent_executor.invoke({\"input\": \"Which mutual funds hold the most shares in Amazon?\"})"
   ]
  },
  {
   "cell_type": "code",
   "execution_count": 13,
   "metadata": {},
   "outputs": [
    {
     "name": "stdout",
     "output_type": "stream",
     "text": [
      "\n",
      "\n",
      "\u001b[1m> Entering new AgentExecutor chain...\u001b[0m\n",
      "\u001b[32;1m\u001b[1;3m\n",
      "Invoking: `get_holders_info` with `{'ticker': 'GOOGL', 'holder_type': 'sustainability'}`\n",
      "\n",
      "\n",
      "\u001b[0m\u001b[38;5;200m\u001b[1;3m{'esgScores': {'maxAge': 86400, 'totalEsg': 24.22, 'environmentScore': 1.56, 'socialScore': 11.16, 'governanceScore': 11.51, 'ratingYear': 2023, 'ratingMonth': 9, 'highestControversy': 4.0, 'peerCount': 105, 'esgPerformance': 'AVG_PERF', 'peerGroup': 'Software & Services', 'relatedControversy': ['Customer Incidents'], 'peerEsgScorePerformance': {'min': 9.84, 'avg': 18.17809523809525, 'max': 49.81}, 'peerGovernancePerformance': {'min': 3.47, 'avg': 6.753495145631067, 'max': 34.36}, 'peerSocialPerformance': {'min': 4.61, 'avg': 8.862038834951454, 'max': 21.09}, 'peerEnvironmentPerformance': {'min': 0.07, 'avg': 2.5702912621359224, 'max': 5.3}, 'peerHighestControversyPerformance': {'min': 0.0, 'avg': 1.5333333333333334, 'max': 5.0}, 'percentile': 45.66, 'environmentPercentile': None, 'socialPercentile': None, 'governancePercentile': None, 'adult': False, 'alcoholic': False, 'animalTesting': False, 'catholic': False, 'controversialWeapons': False, 'smallArms': False, 'furLeather': False, 'gambling': False, 'gmo': False, 'militaryContract': False, 'nuclear': False, 'pesticides': False, 'palmOil': False, 'coal': False, 'tobacco': False}}\u001b[0m\u001b[32;1m\u001b[1;3mThe sustainability scores for Google (GOOGL) are as follows:\n",
      "- Total ESG Score: 24.22\n",
      "- Environment Score: 1.56\n",
      "- Social Score: 11.16\n",
      "- Governance Score: 11.51\n",
      "- ESG Performance: Average Performance\n",
      "- Peer Group: Software & Services\n",
      "- Related Controversy: Customer Incidents\n",
      "- Percentile: 45.66\n",
      "\n",
      "Google does not have specific percentiles for environment, social, and governance scores. Additionally, Google is not involved in controversial activities such as adult content, alcoholic beverages, animal testing, controversial weapons, and others.\n",
      "\n",
      "If you need more information or details, feel free to ask!\u001b[0m\n",
      "\n",
      "\u001b[1m> Finished chain.\u001b[0m\n"
     ]
    },
    {
     "data": {
      "text/plain": [
       "{'input': 'What are the sustainability scores for Google?',\n",
       " 'output': 'The sustainability scores for Google (GOOGL) are as follows:\\n- Total ESG Score: 24.22\\n- Environment Score: 1.56\\n- Social Score: 11.16\\n- Governance Score: 11.51\\n- ESG Performance: Average Performance\\n- Peer Group: Software & Services\\n- Related Controversy: Customer Incidents\\n- Percentile: 45.66\\n\\nGoogle does not have specific percentiles for environment, social, and governance scores. Additionally, Google is not involved in controversial activities such as adult content, alcoholic beverages, animal testing, controversial weapons, and others.\\n\\nIf you need more information or details, feel free to ask!'}"
      ]
     },
     "execution_count": 13,
     "metadata": {},
     "output_type": "execute_result"
    }
   ],
   "source": [
    "agent_executor.invoke({\"input\": \"What are the sustainability scores for Google?\"})"
   ]
  },
  {
   "cell_type": "code",
   "execution_count": 14,
   "metadata": {},
   "outputs": [
    {
     "name": "stdout",
     "output_type": "stream",
     "text": [
      "\n",
      "\n",
      "\u001b[1m> Entering new AgentExecutor chain...\u001b[0m\n",
      "\u001b[32;1m\u001b[1;3m\n",
      "Invoking: `get_holders_info` with `{'ticker': 'MSFT', 'holder_type': 'insider_transactions'}`\n",
      "\n",
      "\n",
      "\u001b[0m\u001b[38;5;200m\u001b[1;3m{'Shares': {0: 138, 1: 138, 2: 138, 3: 138, 4: 16996, 5: 566, 6: 25000, 7: 21955, 8: 10000, 9: 1276, 10: 48303, 11: 148, 12: 148, 13: 148, 14: 147, 15: 148, 16: 148, 17: 120, 18: 24681, 19: 159, 20: 159, 21: 159, 22: 159, 23: 159, 24: 159, 25: 10000, 26: 11500, 27: 1162, 28: 23646, 29: 26697, 30: 10069, 31: 11442, 32: 25385, 33: 175, 34: 175, 35: 175, 36: 175, 37: 175, 38: 175, 39: 38234, 40: 26815, 41: 113227, 42: 40763, 43: 46909, 44: 15045, 45: 18602, 46: 25271, 47: 5614, 48: 29116, 49: 91, 50: 50000, 51: 175, 52: 175, 53: 175, 54: 175, 55: 175, 56: 175, 57: 7610, 58: 30, 59: 1250, 60: 5000, 61: 1620, 62: 5081, 63: 9177, 64: 5000, 65: 30000, 66: 4767, 67: 1000, 68: 1000, 69: 237, 70: 237, 71: 237, 72: 237, 73: 237, 74: 237, 75: 233, 76: 233, 77: 233, 78: 233, 79: 233, 80: 233, 81: 4081, 82: 24144, 83: 29641, 84: 33465, 85: 11302, 86: 12621, 87: 14342, 88: 27996, 89: 5000, 90: 75351, 91: 56999, 92: 161578, 93: 59462, 94: 72387, 95: 30054, 96: 29085, 97: 5960, 98: 42334, 99: 223, 100: 223, 101: 223, 102: 223, 103: 223, 104: 223, 105: 40418, 106: 261, 107: 116, 108: 215, 109: 215, 110: 215, 111: 215, 112: 215, 113: 215, 114: 20, 115: 2500, 116: 7931, 117: 33966, 118: 27860, 119: 189, 120: 189, 121: 189, 122: 189, 123: 189, 124: 3300, 125: 4483, 126: 4500, 127: 1650, 128: 148, 129: 148, 130: 148, 131: 148, 132: 148, 133: 838584, 134: 94, 135: 54757, 136: 55000, 137: 25673, 138: 28986, 139: 9789, 140: 10932, 141: 12423, 142: 20870, 143: 10000, 144: 20000, 145: 166, 146: 166, 147: 166, 148: 166, 149: 166}, 'Value': {0: 0, 1: 0, 2: 0, 3: 0, 4: 0, 5: 235535, 6: 10641950, 7: 8869076, 8: 4036490, 9: 524359, 10: 19871431, 11: 0, 12: 0, 13: 0, 14: 0, 15: 0, 16: 0, 17: 0, 18: 9107283, 19: 0, 20: 0, 21: 0, 22: 0, 23: 0, 24: 0, 25: 0, 26: 4224836, 27: 0, 28: 0, 29: 0, 30: 0, 31: 0, 32: 0, 33: 0, 34: 0, 35: 0, 36: 0, 37: 0, 38: 0, 39: 12557161, 40: 8778350, 41: 0, 42: 0, 43: 0, 44: 0, 45: 0, 46: 0, 47: 0, 48: 0, 49: 0, 50: 16860105, 51: 0, 52: 0, 53: 0, 54: 0, 55: 0, 56: 0, 57: 0, 58: 0, 59: 418463, 60: 1584354, 61: 0, 62: 1588024, 63: 2850529, 64: 1550250, 65: 9182700, 66: 1186411, 67: 272323, 68: 269380, 69: 0, 70: 0, 71: 0, 72: 0, 73: 0, 74: 0, 75: 0, 76: 0, 77: 0, 78: 0, 79: 0, 80: 0, 81: 0, 82: 6139124, 83: 0, 84: 0, 85: 0, 86: 0, 87: 0, 88: 0, 89: 1331250, 90: 19551087, 91: 14689028, 92: 0, 93: 0, 94: 0, 95: 0, 96: 0, 97: 0, 98: 0, 99: 0, 100: 0, 101: 0, 102: 0, 103: 0, 104: 0, 105: 0, 106: 0, 107: 0, 108: 0, 109: 0, 110: 0, 111: 0, 112: 0, 113: 0, 114: 0, 115: 0, 116: 2351736, 117: 0, 118: 8487170, 119: 0, 120: 0, 121: 0, 122: 0, 123: 0, 124: 1000761, 125: 0, 126: 0, 127: 552578, 128: 0, 129: 0, 130: 0, 131: 0, 132: 0, 133: 285338535, 134: 0, 135: 18194837, 136: 18073050, 137: 0, 138: 0, 139: 0, 140: 0, 141: 0, 142: 0, 143: 2988176, 144: 5973540, 145: 0, 146: 0, 147: 0, 148: 0, 149: 0}, 'URL': {0: '', 1: '', 2: '', 3: '', 4: '', 5: '', 6: '', 7: '', 8: '', 9: '', 10: '', 11: '', 12: '', 13: '', 14: '', 15: '', 16: '', 17: '', 18: '', 19: '', 20: '', 21: '', 22: '', 23: '', 24: '', 25: '', 26: '', 27: '', 28: '', 29: '', 30: '', 31: '', 32: '', 33: '', 34: '', 35: '', 36: '', 37: '', 38: '', 39: '', 40: '', 41: '', 42: '', 43: '', 44: '', 45: '', 46: '', 47: '', 48: '', 49: '', 50: '', 51: '', 52: '', 53: '', 54: '', 55: '', 56: '', 57: '', 58: '', 59: '', 60: '', 61: '', 62: '', 63: '', 64: '', 65: '', 66: '', 67: '', 68: '', 69: '', 70: '', 71: '', 72: '', 73: '', 74: '', 75: '', 76: '', 77: '', 78: '', 79: '', 80: '', 81: '', 82: '', 83: '', 84: '', 85: '', 86: '', 87: '', 88: '', 89: '', 90: '', 91: '', 92: '', 93: '', 94: '', 95: '', 96: '', 97: '', 98: '', 99: '', 100: '', 101: '', 102: '', 103: '', 104: '', 105: '', 106: '', 107: '', 108: '', 109: '', 110: '', 111: '', 112: '', 113: '', 114: '', 115: '', 116: '', 117: '', 118: '', 119: '', 120: '', 121: '', 122: '', 123: '', 124: '', 125: '', 126: '', 127: '', 128: '', 129: '', 130: '', 131: '', 132: '', 133: '', 134: '', 135: '', 136: '', 137: '', 138: '', 139: '', 140: '', 141: '', 142: '', 143: '', 144: '', 145: '', 146: '', 147: '', 148: '', 149: ''}, 'Text': {0: 'Stock Award(Grant) at price 0.00 per share.', 1: 'Stock Award(Grant) at price 0.00 per share.', 2: 'Stock Award(Grant) at price 0.00 per share.', 3: 'Stock Award(Grant) at price 0.00 per share.', 4: 'Stock Gift at price 0.00 per share.', 5: 'Sale at price 415.53 - 416.60 per share.', 6: 'Sale at price 425.68 per share.', 7: 'Sale at price 403.96 per share.', 8: 'Sale at price 403.65 per share.', 9: 'Sale at price 410.94 per share.', 10: 'Sale at price 404.89 - 411.78 per share.', 11: 'Stock Award(Grant) at price 0.00 per share.', 12: 'Stock Award(Grant) at price 0.00 per share.', 13: 'Stock Award(Grant) at price 0.00 per share.', 14: 'Stock Award(Grant) at price 0.00 per share.', 15: 'Stock Award(Grant) at price 0.00 per share.', 16: 'Stock Award(Grant) at price 0.00 per share.', 17: 'Stock Gift at price 0.00 per share.', 18: 'Sale at price 369.00 per share.', 19: 'Stock Award(Grant) at price 0.00 per share.', 20: 'Stock Award(Grant) at price 0.00 per share.', 21: 'Stock Award(Grant) at price 0.00 per share.', 22: 'Stock Award(Grant) at price 0.00 per share.', 23: 'Stock Award(Grant) at price 0.00 per share.', 24: 'Stock Award(Grant) at price 0.00 per share.', 25: 'Stock Gift at price 0.00 per share.', 26: 'Sale at price 367.38 per share.', 27: 'Stock Gift at price 0.00 per share.', 28: 'Stock Award(Grant) at price 0.00 per share.', 29: 'Stock Award(Grant) at price 0.00 per share.', 30: 'Stock Award(Grant) at price 0.00 per share.', 31: 'Stock Award(Grant) at price 0.00 per share.', 32: 'Stock Award(Grant) at price 0.00 per share.', 33: 'Stock Award(Grant) at price 0.00 per share.', 34: 'Stock Award(Grant) at price 0.00 per share.', 35: 'Stock Award(Grant) at price 0.00 per share.', 36: 'Stock Award(Grant) at price 0.00 per share.', 37: 'Stock Award(Grant) at price 0.00 per share.', 38: 'Stock Award(Grant) at price 0.00 per share.', 39: 'Sale at price 327.56 - 331.24 per share.', 40: 'Sale at price 327.37 per share.', 41: 'Stock Award(Grant) at price 0.00 per share.', 42: 'Stock Award(Grant) at price 0.00 per share.', 43: 'Stock Award(Grant) at price 0.00 per share.', 44: 'Stock Award(Grant) at price 0.00 per share.', 45: 'Stock Award(Grant) at price 0.00 per share.', 46: 'Stock Award(Grant) at price 0.00 per share.', 47: 'Stock Award(Grant) at price 0.00 per share.', 48: 'Stock Award(Grant) at price 0.00 per share.', 49: 'Stock Gift at price 0.00 per share.', 50: 'Sale at price 336.89 - 337.64 per share.', 51: 'Stock Award(Grant) at price 0.00 per share.', 52: 'Stock Award(Grant) at price 0.00 per share.', 53: 'Stock Award(Grant) at price 0.00 per share.', 54: 'Stock Award(Grant) at price 0.00 per share.', 55: 'Stock Award(Grant) at price 0.00 per share.', 56: 'Stock Award(Grant) at price 0.00 per share.', 57: 'Stock Gift at price 0.00 per share.', 58: 'Stock Gift at price 0.00 per share.', 59: 'Sale at price 334.77 per share.', 60: 'Sale at price 316.87 per share.', 61: 'Stock Gift at price 0.00 per share.', 62: 'Sale at price 312.54 per share.', 63: 'Sale at price 308.70 - 312.90 per share.', 64: 'Sale at price 310.05 per share.', 65: 'Sale at price 306.09 per share.', 66: 'Sale at price 248.88 per share.', 67: 'Sale at price 272.32 per share.', 68: 'Sale at price 269.38 per share.', 69: 'Stock Award(Grant) at price 0.00 per share.', 70: 'Stock Award(Grant) at price 0.00 per share.', 71: 'Stock Award(Grant) at price 0.00 per share.', 72: 'Stock Award(Grant) at price 0.00 per share.', 73: 'Stock Award(Grant) at price 0.00 per share.', 74: 'Stock Award(Grant) at price 0.00 per share.', 75: 'Stock Award(Grant) at price 0.00 per share.', 76: 'Stock Award(Grant) at price 0.00 per share.', 77: 'Stock Award(Grant) at price 0.00 per share.', 78: 'Stock Award(Grant) at price 0.00 per share.', 79: 'Stock Award(Grant) at price 0.00 per share.', 80: 'Stock Award(Grant) at price 0.00 per share.', 81: 'Stock Gift at price 0.00 per share.', 82: 'Sale at price 251.61 - 256.05 per share.', 83: 'Stock Award(Grant) at price 0.00 per share.', 84: 'Stock Award(Grant) at price 0.00 per share.', 85: 'Stock Award(Grant) at price 0.00 per share.', 86: 'Stock Award(Grant) at price 0.00 per share.', 87: 'Stock Award(Grant) at price 0.00 per share.', 88: 'Stock Award(Grant) at price 0.00 per share.', 89: 'Sale at price 266.25 per share.', 90: 'Sale at price 259.47 per share.', 91: 'Sale at price 256.16 - 260.74 per share.', 92: 'Stock Award(Grant) at price 0.00 per share.', 93: 'Stock Award(Grant) at price 0.00 per share.', 94: 'Stock Award(Grant) at price 0.00 per share.', 95: 'Stock Award(Grant) at price 0.00 per share.', 96: 'Stock Award(Grant) at price 0.00 per share.', 97: 'Stock Award(Grant) at price 0.00 per share.', 98: 'Stock Award(Grant) at price 0.00 per share.', 99: 'Stock Award(Grant) at price 0.00 per share.', 100: 'Stock Award(Grant) at price 0.00 per share.', 101: 'Stock Award(Grant) at price 0.00 per share.', 102: 'Stock Award(Grant) at price 0.00 per share.', 103: 'Stock Award(Grant) at price 0.00 per share.', 104: 'Stock Award(Grant) at price 0.00 per share.', 105: 'Stock Gift at price 0.00 per share.', 106: 'Stock Gift at price 0.00 per share.', 107: 'Stock Award(Grant) at price 0.00 per share.', 108: 'Stock Award(Grant) at price 0.00 per share.', 109: 'Stock Award(Grant) at price 0.00 per share.', 110: 'Stock Award(Grant) at price 0.00 per share.', 111: 'Stock Award(Grant) at price 0.00 per share.', 112: 'Stock Award(Grant) at price 0.00 per share.', 113: 'Stock Award(Grant) at price 0.00 per share.', 114: 'Stock Gift at price 0.00 per share.', 115: 'Stock Gift at price 0.00 per share.', 116: 'Sale at price 296.52 per share.', 117: 'Stock Gift at price 0.00 per share.', 118: 'Sale at price 304.64 per share.', 119: 'Stock Award(Grant) at price 0.00 per share.', 120: 'Stock Award(Grant) at price 0.00 per share.', 121: 'Stock Award(Grant) at price 0.00 per share.', 122: 'Stock Award(Grant) at price 0.00 per share.', 123: 'Stock Award(Grant) at price 0.00 per share.', 124: 'Purchase at price 295.48 - 311.53 per share.', 125: 'Stock Award(Grant) at price 0.00 per share.', 126: 'Stock Gift at price 0.00 per share.', 127: 'Sale at price 334.90 per share.', 128: 'Stock Award(Grant) at price 0.00 per share.', 129: 'Stock Award(Grant) at price 0.00 per share.', 130: 'Stock Award(Grant) at price 0.00 per share.', 131: 'Stock Award(Grant) at price 0.00 per share.', 132: 'Stock Award(Grant) at price 0.00 per share.', 133: 'Sale at price 334.37 - 349.22 per share.', 134: 'Stock Gift at price 0.00 per share.', 135: 'Sale at price 332.28 per share.', 136: 'Sale at price 328.60 per share.', 137: 'Stock Award(Grant) at price 0.00 per share.', 138: 'Stock Award(Grant) at price 0.00 per share.', 139: 'Stock Award(Grant) at price 0.00 per share.', 140: 'Stock Award(Grant) at price 0.00 per share.', 141: 'Stock Award(Grant) at price 0.00 per share.', 142: 'Stock Award(Grant) at price 0.00 per share.', 143: 'Sale at price 298.82 per share.', 144: 'Sale at price 298.68 per share.', 145: 'Stock Award(Grant) at price 0.00 per share.', 146: 'Stock Award(Grant) at price 0.00 per share.', 147: 'Stock Award(Grant) at price 0.00 per share.', 148: 'Stock Award(Grant) at price 0.00 per share.', 149: 'Stock Award(Grant) at price 0.00 per share.'}, 'Insider': {0: 'SCHARF CHARLES W', 1: 'STANTON JOHN W.', 2: 'MASON MARK', 3: 'LIST-STOLL TERI L.', 4: 'NADELLA SATYA', 5: 'NUMOTO TAKESHI', 6: 'ALTHOFF JUDSON', 7: 'HOGAN KATHLEEN T', 8: 'ALTHOFF JUDSON', 9: 'NADELLA SATYA', 10: 'SMITH BRADFORD LEE', 11: 'SCHARF CHARLES W', 12: 'STANTON JOHN W.', 13: 'JOHNSTON HUGH F.', 14: 'MASON MARK', 15: 'LIST-STOLL TERI L.', 16: 'WALMSLEY EMMA NATASHA', 17: 'HOGAN KATHLEEN T', 18: 'HOGAN KATHLEEN T', 19: 'SCHARF CHARLES W', 20: 'STANTON JOHN W.', 21: 'WARRIOR PADMASREE', 22: 'JOHNSTON HUGH F.', 23: 'LIST-STOLL TERI L.', 24: 'WALMSLEY EMMA NATASHA', 25: 'SMITH BRADFORD LEE', 26: 'ALTHOFF JUDSON', 27: 'NADELLA SATYA', 28: 'SMITH BRADFORD LEE', 29: 'HOOD AMY E', 30: 'HOGAN KATHLEEN T', 31: 'YOUNG CHRISTOPHER DAVID', 32: 'ALTHOFF JUDSON', 33: 'SCHARF CHARLES W', 34: 'STANTON JOHN W.', 35: 'WARRIOR PADMASREE', 36: 'JOHNSTON HUGH F.', 37: 'LIST-STOLL TERI L.', 38: 'WALMSLEY EMMA NATASHA', 39: 'NADELLA SATYA', 40: 'HOGAN KATHLEEN T', 41: 'NADELLA SATYA', 42: 'SMITH BRADFORD LEE', 43: 'HOOD AMY E', 44: 'CAPOSSELA CHRISTOPHER C', 45: 'HOGAN KATHLEEN T', 46: 'YOUNG CHRISTOPHER DAVID', 47: 'JOLLA ALICE L', 48: 'ALTHOFF JUDSON', 49: 'LIST-STOLL TERI L.', 50: 'SMITH BRADFORD LEE', 51: 'SCHARF CHARLES W', 52: 'STANTON JOHN W.', 53: 'WARRIOR PADMASREE', 54: 'JOHNSTON HUGH F.', 55: 'LIST-STOLL TERI L.', 56: 'WALMSLEY EMMA NATASHA', 57: 'NADELLA SATYA', 58: 'LIST-STOLL TERI L.', 59: 'LIST-STOLL TERI L.', 60: 'CAPOSSELA CHRISTOPHER C', 61: 'CAPOSSELA CHRISTOPHER C', 62: 'CAPOSSELA CHRISTOPHER C', 63: 'CAPOSSELA CHRISTOPHER C', 64: 'CAPOSSELA CHRISTOPHER C', 65: 'ALTHOFF JUDSON', 66: 'NADELLA SATYA', 67: 'CAPOSSELA CHRISTOPHER C', 68: 'CAPOSSELA CHRISTOPHER C', 69: 'SCHARF CHARLES W', 70: 'STANTON JOHN W.', 71: 'WARRIOR PADMASREE', 72: 'JOHNSTON HUGH F.', 73: 'LIST-STOLL TERI L.', 74: 'WALMSLEY EMMA NATASHA', 75: 'SCHARF CHARLES W', 76: 'STANTON JOHN W.', 77: 'WARRIOR PADMASREE', 78: 'JOHNSTON HUGH F.', 79: 'LIST-STOLL TERI L.', 80: 'WALMSLEY EMMA NATASHA', 81: 'CAPOSSELA CHRISTOPHER C', 82: 'ALTHOFF JUDSON', 83: 'SMITH BRADFORD LEE', 84: 'HOOD AMY E', 85: 'CAPOSSELA CHRISTOPHER C', 86: 'HOGAN KATHLEEN T', 87: 'YOUNG CHRISTOPHER DAVID', 88: 'ALTHOFF JUDSON', 89: 'CAPOSSELA CHRISTOPHER C', 90: 'HOOD AMY E', 91: 'NADELLA SATYA', 92: 'NADELLA SATYA', 93: 'SMITH BRADFORD LEE', 94: 'HOOD AMY E', 95: 'CAPOSSELA CHRISTOPHER C', 96: 'HOGAN KATHLEEN T', 97: 'JOLLA ALICE L', 98: 'ALTHOFF JUDSON', 99: 'SCHARF CHARLES W', 100: 'STANTON JOHN W.', 101: 'WARRIOR PADMASREE', 102: 'JOHNSTON HUGH F.', 103: 'LIST-STOLL TERI L.', 104: 'WALMSLEY EMMA NATASHA', 105: 'NADELLA SATYA', 106: 'HOGAN KATHLEEN T', 107: 'JOLLA ALICE L', 108: 'SCHARF CHARLES W', 109: 'STANTON JOHN W.', 110: 'WARRIOR PADMASREE', 111: 'JOHNSTON HUGH F.', 112: 'LIST-STOLL TERI L.', 113: 'WALMSLEY EMMA NATASHA', 114: 'HOGAN KATHLEEN T', 115: 'CAPOSSELA CHRISTOPHER C', 116: 'NADELLA SATYA', 117: 'SMITH BRADFORD LEE', 118: 'SMITH BRADFORD LEE', 119: 'SCHARF CHARLES W', 120: 'STANTON JOHN W.', 121: 'WARRIOR PADMASREE', 122: 'JOHNSTON HUGH F.', 123: 'WALMSLEY EMMA NATASHA', 124: 'WALMSLEY EMMA NATASHA', 125: 'JOLLA ALICE L', 126: 'SMITH BRADFORD LEE', 127: 'LIST-STOLL TERI L.', 128: 'SCHARF CHARLES W', 129: 'STANTON JOHN W.', 130: 'WARRIOR PADMASREE', 131: 'JOHNSTON HUGH F.', 132: 'WALMSLEY EMMA NATASHA', 133: 'NADELLA SATYA', 134: 'LIST-STOLL TERI L.', 135: 'ALTHOFF JUDSON', 136: 'SMITH BRADFORD LEE', 137: 'SMITH BRADFORD LEE', 138: 'HOOD AMY E', 139: 'CAPOSSELA CHRISTOPHER C', 140: 'HOGAN KATHLEEN T', 141: 'YOUNG CHRISTOPHER DAVID', 142: 'ALTHOFF JUDSON', 143: 'CAPOSSELA CHRISTOPHER C', 144: 'HOGAN KATHLEEN T', 145: 'SCHARF CHARLES W', 146: 'STANTON JOHN W.', 147: 'WARRIOR PADMASREE', 148: 'JOHNSTON HUGH F.', 149: 'WALMSLEY EMMA NATASHA'}, 'Position': {0: 'Director', 1: 'Director', 2: 'Director', 3: 'Director', 4: 'Chief Executive Officer', 5: 'Officer', 6: 'Officer', 7: 'Officer', 8: 'Officer', 9: 'Chief Executive Officer', 10: 'President', 11: 'Director', 12: 'Director', 13: 'Director', 14: 'Director', 15: 'Director', 16: 'Director', 17: 'Officer', 18: 'Officer', 19: 'Director', 20: 'Director', 21: 'Director', 22: 'Director', 23: 'Director', 24: 'Director', 25: 'President', 26: 'Officer', 27: 'Chief Executive Officer', 28: 'President', 29: 'Chief Financial Officer', 30: 'Officer', 31: 'Officer', 32: 'Officer', 33: 'Director', 34: 'Director', 35: 'Director', 36: 'Director', 37: 'Director', 38: 'Director', 39: 'Chief Executive Officer', 40: 'Officer', 41: 'Chief Executive Officer', 42: 'President', 43: 'Chief Financial Officer', 44: 'Officer', 45: 'Officer', 46: 'Officer', 47: 'Officer', 48: 'Officer', 49: 'Director', 50: 'President', 51: 'Director', 52: 'Director', 53: 'Director', 54: 'Director', 55: 'Director', 56: 'Director', 57: 'Chief Executive Officer', 58: 'Director', 59: 'Director', 60: 'Officer', 61: 'Officer', 62: 'Officer', 63: 'Officer', 64: 'Officer', 65: 'Officer', 66: 'Chief Executive Officer', 67: 'Officer', 68: 'Officer', 69: 'Director', 70: 'Director', 71: 'Director', 72: 'Director', 73: 'Director', 74: 'Director', 75: 'Director', 76: 'Director', 77: 'Director', 78: 'Director', 79: 'Director', 80: 'Director', 81: 'Officer', 82: 'Officer', 83: 'President', 84: 'Chief Financial Officer', 85: 'Officer', 86: 'Officer', 87: 'Officer', 88: 'Officer', 89: 'Officer', 90: 'Chief Financial Officer', 91: 'Chief Executive Officer', 92: 'Chief Executive Officer', 93: 'President', 94: 'Chief Financial Officer', 95: 'Officer', 96: 'Officer', 97: 'Officer', 98: 'Officer', 99: 'Director', 100: 'Director', 101: 'Director', 102: 'Director', 103: 'Director', 104: 'Director', 105: 'Chief Executive Officer', 106: 'Officer', 107: 'Officer', 108: 'Director', 109: 'Director', 110: 'Director', 111: 'Director', 112: 'Director', 113: 'Director', 114: 'Officer', 115: 'Officer', 116: 'Chief Executive Officer', 117: 'President', 118: 'President', 119: 'Director', 120: 'Director', 121: 'Director', 122: 'Director', 123: 'Director', 124: 'Director', 125: 'Officer', 126: 'President', 127: 'Director', 128: 'Director', 129: 'Director', 130: 'Director', 131: 'Director', 132: 'Director', 133: 'Chief Executive Officer', 134: 'Director', 135: 'Officer', 136: 'President', 137: 'President', 138: 'Chief Financial Officer', 139: 'Officer', 140: 'Officer', 141: 'Officer', 142: 'Officer', 143: 'Officer', 144: 'Officer', 145: 'Director', 146: 'Director', 147: 'Director', 148: 'Director', 149: 'Director'}, 'Transaction': {0: '', 1: '', 2: '', 3: '', 4: '', 5: '', 6: '', 7: '', 8: '', 9: '', 10: '', 11: '', 12: '', 13: '', 14: '', 15: '', 16: '', 17: '', 18: '', 19: '', 20: '', 21: '', 22: '', 23: '', 24: '', 25: '', 26: '', 27: '', 28: '', 29: '', 30: '', 31: '', 32: '', 33: '', 34: '', 35: '', 36: '', 37: '', 38: '', 39: '', 40: '', 41: '', 42: '', 43: '', 44: '', 45: '', 46: '', 47: '', 48: '', 49: '', 50: '', 51: '', 52: '', 53: '', 54: '', 55: '', 56: '', 57: '', 58: '', 59: '', 60: '', 61: '', 62: '', 63: '', 64: '', 65: '', 66: '', 67: '', 68: '', 69: '', 70: '', 71: '', 72: '', 73: '', 74: '', 75: '', 76: '', 77: '', 78: '', 79: '', 80: '', 81: '', 82: '', 83: '', 84: '', 85: '', 86: '', 87: '', 88: '', 89: '', 90: '', 91: '', 92: '', 93: '', 94: '', 95: '', 96: '', 97: '', 98: '', 99: '', 100: '', 101: '', 102: '', 103: '', 104: '', 105: '', 106: '', 107: '', 108: '', 109: '', 110: '', 111: '', 112: '', 113: '', 114: '', 115: '', 116: '', 117: '', 118: '', 119: '', 120: '', 121: '', 122: '', 123: '', 124: '', 125: '', 126: '', 127: '', 128: '', 129: '', 130: '', 131: '', 132: '', 133: '', 134: '', 135: '', 136: '', 137: '', 138: '', 139: '', 140: '', 141: '', 142: '', 143: '', 144: '', 145: '', 146: '', 147: '', 148: '', 149: ''}, 'Start Date': {0: Timestamp('2024-06-07 00:00:00'), 1: Timestamp('2024-06-07 00:00:00'), 2: Timestamp('2024-06-07 00:00:00'), 3: Timestamp('2024-06-07 00:00:00'), 4: Timestamp('2024-06-05 00:00:00'), 5: Timestamp('2024-06-03 00:00:00'), 6: Timestamp('2024-05-23 00:00:00'), 7: Timestamp('2024-03-11 00:00:00'), 8: Timestamp('2024-03-11 00:00:00'), 9: Timestamp('2024-03-01 00:00:00'), 10: Timestamp('2024-02-05 00:00:00'), 11: Timestamp('2024-01-31 00:00:00'), 12: Timestamp('2024-01-31 00:00:00'), 13: Timestamp('2024-01-31 00:00:00'), 14: Timestamp('2024-01-31 00:00:00'), 15: Timestamp('2024-01-31 00:00:00'), 16: Timestamp('2024-01-31 00:00:00'), 17: Timestamp('2023-12-26 00:00:00'), 18: Timestamp('2023-12-08 00:00:00'), 19: Timestamp('2023-12-06 00:00:00'), 20: Timestamp('2023-12-06 00:00:00'), 21: Timestamp('2023-12-06 00:00:00'), 22: Timestamp('2023-12-06 00:00:00'), 23: Timestamp('2023-12-06 00:00:00'), 24: Timestamp('2023-12-06 00:00:00'), 25: Timestamp('2023-12-01 00:00:00'), 26: Timestamp('2023-11-13 00:00:00'), 27: Timestamp('2023-11-01 00:00:00'), 28: Timestamp('2023-09-18 00:00:00'), 29: Timestamp('2023-09-18 00:00:00'), 30: Timestamp('2023-09-18 00:00:00'), 31: Timestamp('2023-09-18 00:00:00'), 32: Timestamp('2023-09-18 00:00:00'), 33: Timestamp('2023-09-13 00:00:00'), 34: Timestamp('2023-09-13 00:00:00'), 35: Timestamp('2023-09-13 00:00:00'), 36: Timestamp('2023-09-13 00:00:00'), 37: Timestamp('2023-09-13 00:00:00'), 38: Timestamp('2023-09-13 00:00:00'), 39: Timestamp('2023-09-01 00:00:00'), 40: Timestamp('2023-09-01 00:00:00'), 41: Timestamp('2023-08-31 00:00:00'), 42: Timestamp('2023-08-31 00:00:00'), 43: Timestamp('2023-08-31 00:00:00'), 44: Timestamp('2023-08-31 00:00:00'), 45: Timestamp('2023-08-31 00:00:00'), 46: Timestamp('2023-08-31 00:00:00'), 47: Timestamp('2023-08-31 00:00:00'), 48: Timestamp('2023-08-31 00:00:00'), 49: Timestamp('2023-08-04 00:00:00'), 50: Timestamp('2023-08-01 00:00:00'), 51: Timestamp('2023-06-13 00:00:00'), 52: Timestamp('2023-06-13 00:00:00'), 53: Timestamp('2023-06-13 00:00:00'), 54: Timestamp('2023-06-13 00:00:00'), 55: Timestamp('2023-06-13 00:00:00'), 56: Timestamp('2023-06-13 00:00:00'), 57: Timestamp('2023-06-07 00:00:00'), 58: Timestamp('2023-06-05 00:00:00'), 59: Timestamp('2023-06-02 00:00:00'), 60: Timestamp('2023-05-18 00:00:00'), 61: Timestamp('2023-05-16 00:00:00'), 62: Timestamp('2023-05-16 00:00:00'), 63: Timestamp('2023-05-10 00:00:00'), 64: Timestamp('2023-05-05 00:00:00'), 65: Timestamp('2023-05-01 00:00:00'), 66: Timestamp('2023-02-28 00:00:00'), 67: Timestamp('2023-02-13 00:00:00'), 68: Timestamp('2023-02-09 00:00:00'), 69: Timestamp('2023-01-31 00:00:00'), 70: Timestamp('2023-01-31 00:00:00'), 71: Timestamp('2023-01-31 00:00:00'), 72: Timestamp('2023-01-31 00:00:00'), 73: Timestamp('2023-01-31 00:00:00'), 74: Timestamp('2023-01-31 00:00:00'), 75: Timestamp('2022-12-12 00:00:00'), 76: Timestamp('2022-12-12 00:00:00'), 77: Timestamp('2022-12-12 00:00:00'), 78: Timestamp('2022-12-12 00:00:00'), 79: Timestamp('2022-12-12 00:00:00'), 80: Timestamp('2022-12-12 00:00:00'), 81: Timestamp('2022-12-09 00:00:00'), 82: Timestamp('2022-12-01 00:00:00'), 83: Timestamp('2022-09-19 00:00:00'), 84: Timestamp('2022-09-19 00:00:00'), 85: Timestamp('2022-09-19 00:00:00'), 86: Timestamp('2022-09-19 00:00:00'), 87: Timestamp('2022-09-19 00:00:00'), 88: Timestamp('2022-09-19 00:00:00'), 89: Timestamp('2022-09-12 00:00:00'), 90: Timestamp('2022-09-02 00:00:00'), 91: Timestamp('2022-09-01 00:00:00'), 92: Timestamp('2022-08-31 00:00:00'), 93: Timestamp('2022-08-31 00:00:00'), 94: Timestamp('2022-08-31 00:00:00'), 95: Timestamp('2022-08-31 00:00:00'), 96: Timestamp('2022-08-31 00:00:00'), 97: Timestamp('2022-08-31 00:00:00'), 98: Timestamp('2022-08-31 00:00:00'), 99: Timestamp('2022-08-30 00:00:00'), 100: Timestamp('2022-08-30 00:00:00'), 101: Timestamp('2022-08-30 00:00:00'), 102: Timestamp('2022-08-30 00:00:00'), 103: Timestamp('2022-08-30 00:00:00'), 104: Timestamp('2022-08-30 00:00:00'), 105: Timestamp('2022-08-12 00:00:00'), 106: Timestamp('2022-08-11 00:00:00'), 107: Timestamp('2022-06-14 00:00:00'), 108: Timestamp('2022-05-31 00:00:00'), 109: Timestamp('2022-05-31 00:00:00'), 110: Timestamp('2022-05-31 00:00:00'), 111: Timestamp('2022-05-31 00:00:00'), 112: Timestamp('2022-05-31 00:00:00'), 113: Timestamp('2022-05-31 00:00:00'), 114: Timestamp('2022-04-12 00:00:00'), 115: Timestamp('2022-04-05 00:00:00'), 116: Timestamp('2022-03-01 00:00:00'), 117: Timestamp('2022-02-15 00:00:00'), 118: Timestamp('2022-02-08 00:00:00'), 119: Timestamp('2022-01-31 00:00:00'), 120: Timestamp('2022-01-31 00:00:00'), 121: Timestamp('2022-01-31 00:00:00'), 122: Timestamp('2022-01-31 00:00:00'), 123: Timestamp('2022-01-31 00:00:00'), 124: Timestamp('2022-01-31 00:00:00'), 125: Timestamp('2021-12-15 00:00:00'), 126: Timestamp('2021-12-08 00:00:00'), 127: Timestamp('2021-12-07 00:00:00'), 128: Timestamp('2021-11-29 00:00:00'), 129: Timestamp('2021-11-29 00:00:00'), 130: Timestamp('2021-11-29 00:00:00'), 131: Timestamp('2021-11-29 00:00:00'), 132: Timestamp('2021-11-29 00:00:00'), 133: Timestamp('2021-11-23 00:00:00'), 134: Timestamp('2021-11-02 00:00:00'), 135: Timestamp('2021-11-02 00:00:00'), 136: Timestamp('2021-11-01 00:00:00'), 137: Timestamp('2021-09-13 00:00:00'), 138: Timestamp('2021-09-13 00:00:00'), 139: Timestamp('2021-09-13 00:00:00'), 140: Timestamp('2021-09-13 00:00:00'), 141: Timestamp('2021-09-13 00:00:00'), 142: Timestamp('2021-09-13 00:00:00'), 143: Timestamp('2021-09-10 00:00:00'), 144: Timestamp('2021-09-10 00:00:00'), 145: Timestamp('2021-09-02 00:00:00'), 146: Timestamp('2021-09-02 00:00:00'), 147: Timestamp('2021-09-02 00:00:00'), 148: Timestamp('2021-09-02 00:00:00'), 149: Timestamp('2021-09-02 00:00:00')}, 'Ownership': {0: 'D', 1: 'D', 2: 'D', 3: 'D', 4: 'I', 5: 'D', 6: 'D', 7: 'D', 8: 'D', 9: 'D', 10: 'D', 11: 'D', 12: 'D', 13: 'D', 14: 'D', 15: 'D', 16: 'D', 17: 'D', 18: 'D', 19: 'D', 20: 'D', 21: 'D', 22: 'D', 23: 'D', 24: 'D', 25: 'D', 26: 'D', 27: 'D', 28: 'D', 29: 'D', 30: 'D', 31: 'D', 32: 'D', 33: 'D', 34: 'D', 35: 'D', 36: 'D', 37: 'D', 38: 'D', 39: 'D', 40: 'D', 41: 'D', 42: 'D', 43: 'D', 44: 'D', 45: 'D', 46: 'D', 47: 'D', 48: 'D', 49: 'D', 50: 'D', 51: 'D', 52: 'D', 53: 'D', 54: 'D', 55: 'D', 56: 'D', 57: 'D', 58: 'D', 59: 'D', 60: 'D', 61: 'D', 62: 'D', 63: 'D', 64: 'D', 65: 'D', 66: 'D', 67: 'D', 68: 'D', 69: 'D', 70: 'D', 71: 'D', 72: 'D', 73: 'D', 74: 'D', 75: 'D', 76: 'D', 77: 'D', 78: 'D', 79: 'D', 80: 'D', 81: 'D', 82: 'D', 83: 'D', 84: 'D', 85: 'D', 86: 'D', 87: 'D', 88: 'D', 89: 'D', 90: 'D', 91: 'D', 92: 'D', 93: 'D', 94: 'D', 95: 'D', 96: 'D', 97: 'D', 98: 'D', 99: 'D', 100: 'D', 101: 'D', 102: 'D', 103: 'D', 104: 'D', 105: 'D', 106: 'D', 107: 'D', 108: 'D', 109: 'D', 110: 'D', 111: 'D', 112: 'D', 113: 'D', 114: 'D', 115: 'D', 116: 'D', 117: 'D', 118: 'D', 119: 'D', 120: 'D', 121: 'D', 122: 'D', 123: 'D', 124: 'D', 125: 'D', 126: 'D', 127: 'D', 128: 'D', 129: 'D', 130: 'D', 131: 'D', 132: 'D', 133: 'D', 134: 'D', 135: 'D', 136: 'D', 137: 'D', 138: 'D', 139: 'D', 140: 'D', 141: 'D', 142: 'D', 143: 'D', 144: 'D', 145: 'D', 146: 'D', 147: 'D', 148: 'D', 149: 'D'}}\u001b[0m\u001b[32;1m\u001b[1;3m\n",
      "Invoking: `get_holders_info` with `{'ticker': 'MSFT', 'holder_type': 'major_holders'}`\n",
      "\n",
      "\n",
      "\u001b[0m\u001b[38;5;200m\u001b[1;3m{'Value': {'insidersPercentHeld': 0.0005, 'institutionsPercentHeld': 0.73551005, 'institutionsFloatPercentHeld': 0.73587996, 'institutionsCount': 6859.0}}\u001b[0m\u001b[32;1m\u001b[1;3m### Insider Transactions for Microsoft:\n",
      "1. **SCHARF CHARLES W (Director):**\n",
      "   - Transaction: Stock Award(Grant) at price 0.00 per share.\n",
      "   - Ownership: Director\n",
      "   - Start Date: 2024-06-07\n",
      "\n",
      "2. **STANTON JOHN W. (Director):**\n",
      "   - Transaction: Stock Award(Grant) at price 0.00 per share.\n",
      "   - Ownership: Director\n",
      "   - Start Date: 2024-06-07\n",
      "\n",
      "3. **MASON MARK (Director):**\n",
      "   - Transaction: Stock Award(Grant) at price 0.00 per share.\n",
      "   - Ownership: Director\n",
      "   - Start Date: 2024-06-07\n",
      "\n",
      "4. **LIST-STOLL TERI L. (Director):**\n",
      "   - Transaction: Stock Award(Grant) at price 0.00 per share.\n",
      "   - Ownership: Director\n",
      "   - Start Date: 2024-06-07\n",
      "\n",
      "5. **NADELLA SATYA (Chief Executive Officer):**\n",
      "   - Transaction: Stock Gift at price 0.00 per share.\n",
      "   - Ownership: Chief Executive Officer\n",
      "   - Start Date: 2024-06-05\n",
      "\n",
      "### Major Holders for Microsoft:\n",
      "- Insiders Percent Held: 0.05%\n",
      "- Institutions Percent Held: 73.55%\n",
      "- Institutions Float Percent Held: 73.59%\n",
      "- Number of Institutional Holders: 6,859\n",
      "\n",
      "If you need more details or have any specific questions, feel free to ask!\u001b[0m\n",
      "\n",
      "\u001b[1m> Finished chain.\u001b[0m\n"
     ]
    },
    {
     "data": {
      "text/plain": [
       "{'input': 'Show me the recent insider transactions, major and institutional holders for Microsoft.',\n",
       " 'output': '### Insider Transactions for Microsoft:\\n1. **SCHARF CHARLES W (Director):**\\n   - Transaction: Stock Award(Grant) at price 0.00 per share.\\n   - Ownership: Director\\n   - Start Date: 2024-06-07\\n\\n2. **STANTON JOHN W. (Director):**\\n   - Transaction: Stock Award(Grant) at price 0.00 per share.\\n   - Ownership: Director\\n   - Start Date: 2024-06-07\\n\\n3. **MASON MARK (Director):**\\n   - Transaction: Stock Award(Grant) at price 0.00 per share.\\n   - Ownership: Director\\n   - Start Date: 2024-06-07\\n\\n4. **LIST-STOLL TERI L. (Director):**\\n   - Transaction: Stock Award(Grant) at price 0.00 per share.\\n   - Ownership: Director\\n   - Start Date: 2024-06-07\\n\\n5. **NADELLA SATYA (Chief Executive Officer):**\\n   - Transaction: Stock Gift at price 0.00 per share.\\n   - Ownership: Chief Executive Officer\\n   - Start Date: 2024-06-05\\n\\n### Major Holders for Microsoft:\\n- Insiders Percent Held: 0.05%\\n- Institutions Percent Held: 73.55%\\n- Institutions Float Percent Held: 73.59%\\n- Number of Institutional Holders: 6,859\\n\\nIf you need more details or have any specific questions, feel free to ask!'}"
      ]
     },
     "execution_count": 14,
     "metadata": {},
     "output_type": "execute_result"
    }
   ],
   "source": [
    "agent_executor.invoke({\"input\": \"Show me the recent insider transactions, major and institutional holders for Microsoft.\"})"
   ]
  },
  {
   "cell_type": "markdown",
   "metadata": {},
   "source": [
    "### Recommendations"
   ]
  },
  {
   "cell_type": "code",
   "execution_count": null,
   "metadata": {},
   "outputs": [],
   "source": [
    "agent_executor.invoke({\"input\": \"What are the recent analyst recommendations for Apple?\"})"
   ]
  },
  {
   "cell_type": "code",
   "execution_count": null,
   "metadata": {},
   "outputs": [],
   "source": [
    "agent_executor.invoke({\"input\": \"Can you provide a summary of the latest recommendations for Tesla?\"})"
   ]
  },
  {
   "cell_type": "code",
   "execution_count": 7,
   "metadata": {},
   "outputs": [
    {
     "data": {
      "text/plain": [
       "{'error': openai.BadRequestError('Error code: 400 - {\\'error\\': {\\'message\\': \"This model\\'s maximum context length is 16385 tokens. However, your messages resulted in 53003 tokens (52221 in the messages, 782 in the functions). Please reduce the length of the messages or functions.\", \\'type\\': \\'invalid_request_error\\', \\'param\\': \\'messages\\', \\'code\\': \\'context_length_exceeded\\'}}'),\n",
       " 'tools_ran': [{'tool_name': 'get_recommendations',\n",
       "   'tool_params': {'ticker': 'MSFT',\n",
       "    'recommendation_type': 'upgrades_downgrades'}}]}"
      ]
     },
     "execution_count": 7,
     "metadata": {},
     "output_type": "execute_result"
    }
   ],
   "source": [
    "agent_executor.invoke({\"input\": \"Show me the recent upgrades and downgrades for Microsoft.\"})"
   ]
  },
  {
   "cell_type": "markdown",
   "metadata": {},
   "source": [
    "### Options and Option Chains"
   ]
  },
  {
   "cell_type": "code",
   "execution_count": null,
   "metadata": {},
   "outputs": [],
   "source": [
    "agent_executor.invoke({\"input\": \"What are the available options expiration dates for Apple?\"})"
   ]
  },
  {
   "cell_type": "code",
   "execution_count": null,
   "metadata": {},
   "outputs": [],
   "source": [
    "agent_executor.invoke({\"input\": \"Show me the options expiration dates for Tesla in 2022.\"})"
   ]
  },
  {
   "cell_type": "code",
   "execution_count": null,
   "metadata": {},
   "outputs": [],
   "source": [
    "agent_executor.invoke({\"input\": \"What is the options chain for Apple expiring on 2023-12-15?\"})"
   ]
  },
  {
   "cell_type": "code",
   "execution_count": null,
   "metadata": {},
   "outputs": [],
   "source": [
    "agent_executor.invoke({\"input\": \"What is the options chain for Apple expiring on 2023-12-31?\"})"
   ]
  },
  {
   "cell_type": "markdown",
   "metadata": {},
   "source": [
    "### News"
   ]
  },
  {
   "cell_type": "code",
   "execution_count": 15,
   "metadata": {},
   "outputs": [
    {
     "name": "stdout",
     "output_type": "stream",
     "text": [
      "\n",
      "\n",
      "\u001b[1m> Entering new AgentExecutor chain...\u001b[0m\n",
      "\u001b[32;1m\u001b[1;3m\n",
      "Invoking: `get_stock_news` with `{'ticker': 'AAPL'}`\n",
      "\n",
      "\n",
      "\u001b[0m\u001b[36;1m\u001b[1;3m[{'uuid': '24bfb8b9-7355-3c70-9894-1dd4da704686', 'title': 'ByteDance Is Said to Seek Refinancing of $5 Billion Loan', 'publisher': 'Bloomberg', 'link': 'https://finance.yahoo.com/news/bytedance-said-seek-refinancing-5-033652868.html', 'providerPublishTime': 1723174612, 'type': 'STORY', 'thumbnail': {'resolutions': [{'url': 'https://s.yimg.com/uu/api/res/1.2/y_9mq7fFEXQv2fSYXIge7g--~B/aD0xMzM0O3c9MjAwMDthcHBpZD15dGFjaHlvbg--/https://media.zenfs.com/en/bloomberg_markets_842/f12fa208aba44fc9fdb024d9e3695faa', 'width': 2000, 'height': 1334, 'tag': 'original'}, {'url': 'https://s.yimg.com/uu/api/res/1.2/aBn3wih4BKNmrr1.4xUycg--~B/Zmk9ZmlsbDtoPTE0MDtweW9mZj0wO3c9MTQwO2FwcGlkPXl0YWNoeW9u/https://media.zenfs.com/en/bloomberg_markets_842/f12fa208aba44fc9fdb024d9e3695faa', 'width': 140, 'height': 140, 'tag': '140x140'}]}, 'relatedTickers': ['AAPL', 'TCEHY', 'TCTZF']}, {'uuid': 'f34bfc02-394a-3f60-a430-cc68029484a8', 'title': 'Sector Update: Tech', 'publisher': 'MT Newswires', 'link': 'https://finance.yahoo.com/news/sector-tech-193449268.html', 'providerPublishTime': 1723145689, 'type': 'STORY', 'relatedTickers': ['AAPL']}, {'uuid': '9ef12acb-3f80-32a4-b560-7989a2100d8a', 'title': \"Spotify and Epic Games call Apple's revised DMA compliance plan 'confusing,' 'illegal' and 'unacceptable'\", 'publisher': 'TechCrunch', 'link': 'https://finance.yahoo.com/m/9ef12acb-3f80-32a4-b560-7989a2100d8a/spotify-and-epic-games-call.html', 'providerPublishTime': 1723143559, 'type': 'STORY', 'relatedTickers': ['AAPL', 'SPOT']}, {'uuid': '86f8eaaf-eb2b-3e52-aa60-9054e6793c7e', 'title': 'Apple revises DMA compliance for App Store link-outs, applying fewer restrictions and a new fee structure', 'publisher': 'TechCrunch', 'link': 'https://finance.yahoo.com/m/86f8eaaf-eb2b-3e52-aa60-9054e6793c7e/apple-revises-dma-compliance.html', 'providerPublishTime': 1723139025, 'type': 'STORY', 'relatedTickers': ['AAPL']}, {'uuid': '1231c591-9883-3152-9264-dc4a5d0900c6', 'title': 'Apple Allows Developers on EU Storefront to Redirect Users to External Channels', 'publisher': 'MT Newswires', 'link': 'https://finance.yahoo.com/news/apple-allows-developers-eu-storefront-172736953.html', 'providerPublishTime': 1723138056, 'type': 'STORY', 'relatedTickers': ['AAPL']}, {'uuid': '7d75c6ef-ac25-3b9d-9c66-94ab34a9dbd6', 'title': 'Update: Market Chatter: Apple Planning New Mac Mini Version', 'publisher': 'MT Newswires', 'link': 'https://finance.yahoo.com/news/market-chatter-apple-planning-mac-163034816.html', 'providerPublishTime': 1723134634, 'type': 'STORY', 'relatedTickers': ['AAPL']}, {'uuid': '7e251288-9b19-3c6f-8930-eb74db591d64', 'title': 'Apple changes EU app store policy after Commission probe', 'publisher': 'Reuters', 'link': 'https://finance.yahoo.com/news/apple-changes-eu-app-store-160437899.html', 'providerPublishTime': 1723133077, 'type': 'STORY', 'thumbnail': {'resolutions': [{'url': 'https://s.yimg.com/uu/api/res/1.2/9Gaf.yi0ylKbZT2NXwlUzg--~B/aD01Mjg7dz04MDA7YXBwaWQ9eXRhY2h5b24-/https://media.zenfs.com/en/reuters-finance.com/3771202be64c0e6e5b20890fc14d60ca', 'width': 800, 'height': 528, 'tag': 'original'}, {'url': 'https://s.yimg.com/uu/api/res/1.2/IK6AwXJFNFTHMKeb7gwVtg--~B/Zmk9ZmlsbDtoPTE0MDtweW9mZj0wO3c9MTQwO2FwcGlkPXl0YWNoeW9u/https://media.zenfs.com/en/reuters-finance.com/3771202be64c0e6e5b20890fc14d60ca', 'width': 140, 'height': 140, 'tag': '140x140'}]}, 'relatedTickers': ['AAPL']}, {'uuid': '8bf44d66-b0c9-3a85-8047-435a7e946ec9', 'title': 'Market Chatter: Apple Planning New Mac Mini Version', 'publisher': 'MT Newswires', 'link': 'https://finance.yahoo.com/news/market-chatter-apple-planning-mac-155731402.html', 'providerPublishTime': 1723132651, 'type': 'STORY', 'relatedTickers': ['AAPL']}]\u001b[0m\u001b[32;1m\u001b[1;3mHere are some of the latest news articles related to Apple (AAPL):\n",
      "\n",
      "1. **[ByteDance Is Said to Seek Refinancing of $5 Billion Loan](https://finance.yahoo.com/news/bytedance-said-seek-refinancing-5-033652868.html)** - Published by Bloomberg\n",
      "2. **[Sector Update: Tech](https://finance.yahoo.com/news/sector-tech-193449268.html)** - Published by MT Newswires\n",
      "3. **[Spotify and Epic Games call Apple's revised DMA compliance plan 'confusing,' 'illegal' and 'unacceptable'](https://finance.yahoo.com/m/9ef12acb-3f80-32a4-b560-7989a2100d8a/spotify-and-epic-games-call.html)** - Published by TechCrunch\n",
      "4. **[Apple revises DMA compliance for App Store link-outs, applying fewer restrictions and a new fee structure](https://finance.yahoo.com/m/86f8eaaf-eb2b-3e52-aa60-9054e6793c7e/apple-revises-dma-compliance.html)** - Published by TechCrunch\n",
      "5. **[Apple Allows Developers on EU Storefront to Redirect Users to External Channels](https://finance.yahoo.com/news/apple-allows-developers-eu-storefront-172736953.html)** - Published by MT Newswires\n",
      "6. **[Update: Market Chatter: Apple Planning New Mac Mini Version](https://finance.yahoo.com/news/market-chatter-apple-planning-mac-163034816.html)** - Published by MT Newswires\n",
      "7. **[Apple changes EU app store policy after Commission probe](https://finance.yahoo.com/news/apple-changes-eu-app-store-160437899.html)** - Published by Reuters\n",
      "\n",
      "Feel free to click on the links to read more about each article.\u001b[0m\n",
      "\n",
      "\u001b[1m> Finished chain.\u001b[0m\n"
     ]
    },
    {
     "data": {
      "text/plain": [
       "{'input': 'What are the latest news articles for Apple?',\n",
       " 'output': \"Here are some of the latest news articles related to Apple (AAPL):\\n\\n1. **[ByteDance Is Said to Seek Refinancing of $5 Billion Loan](https://finance.yahoo.com/news/bytedance-said-seek-refinancing-5-033652868.html)** - Published by Bloomberg\\n2. **[Sector Update: Tech](https://finance.yahoo.com/news/sector-tech-193449268.html)** - Published by MT Newswires\\n3. **[Spotify and Epic Games call Apple's revised DMA compliance plan 'confusing,' 'illegal' and 'unacceptable'](https://finance.yahoo.com/m/9ef12acb-3f80-32a4-b560-7989a2100d8a/spotify-and-epic-games-call.html)** - Published by TechCrunch\\n4. **[Apple revises DMA compliance for App Store link-outs, applying fewer restrictions and a new fee structure](https://finance.yahoo.com/m/86f8eaaf-eb2b-3e52-aa60-9054e6793c7e/apple-revises-dma-compliance.html)** - Published by TechCrunch\\n5. **[Apple Allows Developers on EU Storefront to Redirect Users to External Channels](https://finance.yahoo.com/news/apple-allows-developers-eu-storefront-172736953.html)** - Published by MT Newswires\\n6. **[Update: Market Chatter: Apple Planning New Mac Mini Version](https://finance.yahoo.com/news/market-chatter-apple-planning-mac-163034816.html)** - Published by MT Newswires\\n7. **[Apple changes EU app store policy after Commission probe](https://finance.yahoo.com/news/apple-changes-eu-app-store-160437899.html)** - Published by Reuters\\n\\nFeel free to click on the links to read more about each article.\"}"
      ]
     },
     "execution_count": 15,
     "metadata": {},
     "output_type": "execute_result"
    }
   ],
   "source": [
    "agent_executor.invoke({\"input\": \"What are the latest news articles for Apple?\"})"
   ]
  },
  {
   "cell_type": "code",
   "execution_count": 16,
   "metadata": {},
   "outputs": [
    {
     "name": "stdout",
     "output_type": "stream",
     "text": [
      "\n",
      "\n",
      "\u001b[1m> Entering new AgentExecutor chain...\u001b[0m\n",
      "\u001b[32;1m\u001b[1;3m\n",
      "Invoking: `get_stock_news` with `{'ticker': 'TSLA'}`\n",
      "\n",
      "\n",
      "\u001b[0m\u001b[36;1m\u001b[1;3m[{'uuid': 'af89a4eb-e63d-330d-933f-9989d5d688ac', 'title': 'One of World’s Youngest Billionaires to Double Fortune on Ola\\xa0IPO', 'publisher': 'Bloomberg', 'link': 'https://finance.yahoo.com/news/softbank-backed-billionaire-double-fortune-210000449.html', 'providerPublishTime': 1723181113, 'type': 'STORY', 'thumbnail': {'resolutions': [{'url': 'https://s.yimg.com/uu/api/res/1.2/CB57gaysRisc_NStKrfGnA--~B/aD04MjQ7dz0xMjk2O2FwcGlkPXl0YWNoeW9u/https://media.zenfs.com/en/bloomberg_markets_842/c2ec3ad1fe04adc8ad01d72efdde4480', 'width': 1296, 'height': 824, 'tag': 'original'}, {'url': 'https://s.yimg.com/uu/api/res/1.2/I_LXbqtVTYyPHiCA8Jwk8w--~B/Zmk9ZmlsbDtoPTE0MDtweW9mZj0wO3c9MTQwO2FwcGlkPXl0YWNoeW9u/https://media.zenfs.com/en/bloomberg_markets_842/c2ec3ad1fe04adc8ad01d72efdde4480', 'width': 140, 'height': 140, 'tag': '140x140'}]}, 'relatedTickers': ['TSLA', 'SFTBY']}, {'uuid': 'a14fc71b-cdcb-3e50-a70b-8c2fa1fb4cc2', 'title': 'Mortgage rates, Lumen CEO, Good Buy or Goodbye: Market Domination', 'publisher': 'Yahoo Finance Video', 'link': 'https://finance.yahoo.com/video/mortgage-rates-lumen-ceo-good-220428313.html', 'providerPublishTime': 1723154668, 'type': 'VIDEO', 'thumbnail': {'resolutions': [{'url': 'https://s.yimg.com/uu/api/res/1.2/FlBqvP_Q86mdb2ACNryr6A--~B/aD0xMjY4O3c9MjI1MzthcHBpZD15dGFjaHlvbg--/https://s.yimg.com/os/creatr-uploaded-images/2024-08/263bc880-55d2-11ef-aeed-1fe2cfe97b31', 'width': 2253, 'height': 1268, 'tag': 'original'}, {'url': 'https://s.yimg.com/uu/api/res/1.2/sJF2aA_J9iQckUhihw1gSA--~B/Zmk9ZmlsbDtoPTE0MDtweW9mZj0wO3c9MTQwO2FwcGlkPXl0YWNoeW9u/https://s.yimg.com/os/creatr-uploaded-images/2024-08/263bc880-55d2-11ef-aeed-1fe2cfe97b31', 'width': 140, 'height': 140, 'tag': '140x140'}]}, 'relatedTickers': ['ETH-USD', 'Z', 'ZG', 'MCK', '^GSPC', 'UA', 'UAA', 'BTC-USD', '^IXIC', 'TSLA', 'LUMN', '^DJI', 'MNST', 'MSFT']}, {'uuid': 'ca0ffc65-41f0-3886-827c-7b39043c7ac7', 'title': 'The EV Industry Landscape', 'publisher': 'GuruFocus.com', 'link': 'https://finance.yahoo.com/news/ev-industry-landscape-214256054.html', 'providerPublishTime': 1723153376, 'type': 'STORY', 'thumbnail': {'resolutions': [{'url': 'https://s.yimg.com/uu/api/res/1.2/zhbtRq_UNryUMPWq4I3onA--~B/aD0zNzQ0O3c9NTYxNjthcHBpZD15dGFjaHlvbg--/https://media.zenfs.com/en/us.finance.gurufocus/d00165a45b4a0b827507c779e7f734bd', 'width': 5616, 'height': 3744, 'tag': 'original'}, {'url': 'https://s.yimg.com/uu/api/res/1.2/NNH3xZZWKYxWPvOGteakfA--~B/Zmk9ZmlsbDtoPTE0MDtweW9mZj0wO3c9MTQwO2FwcGlkPXl0YWNoeW9u/https://media.zenfs.com/en/us.finance.gurufocus/d00165a45b4a0b827507c779e7f734bd', 'width': 140, 'height': 140, 'tag': '140x140'}]}, 'relatedTickers': ['TSLA']}, {'uuid': 'caa2a0ad-5aff-3e78-8b95-f9c7f202cee9', 'title': 'Microsoft vs. Tesla: Which should you buy after sell-off?', 'publisher': 'Yahoo Finance Video', 'link': 'https://finance.yahoo.com/video/microsoft-vs-tesla-buy-sell-204255178.html', 'providerPublishTime': 1723149775, 'type': 'VIDEO', 'thumbnail': {'resolutions': [{'url': 'https://s.yimg.com/uu/api/res/1.2/DpEND4QrMpjeGUXsPT1yhQ--~B/aD0xMDgwO3c9MTkyMDthcHBpZD15dGFjaHlvbg--/https://s.yimg.com/os/creatr-uploaded-images/2024-08/5ff2bc80-55c0-11ef-beed-d34af2491e36', 'width': 1920, 'height': 1080, 'tag': 'original'}, {'url': 'https://s.yimg.com/uu/api/res/1.2/CrY3LQjwZZaI8iU3qaByKA--~B/Zmk9ZmlsbDtoPTE0MDtweW9mZj0wO3c9MTQwO2FwcGlkPXl0YWNoeW9u/https://s.yimg.com/os/creatr-uploaded-images/2024-08/5ff2bc80-55c0-11ef-beed-d34af2491e36', 'width': 140, 'height': 140, 'tag': '140x140'}]}, 'relatedTickers': ['MSFT', 'TSLA']}, {'uuid': '730bd54a-62d5-36a5-8ff8-2eb1e6de78dc', 'title': \"California Governor Gavin Newsom 'Bent Over Backwards' To Help Tesla, Says Former Executive: 'If One Finds Elon's Political Stances Disturbing, That Does Not Mean That Someone Hates Tesla...'\", 'publisher': 'Benzinga', 'link': 'https://finance.yahoo.com/news/california-governor-gavin-newsom-bent-203014707.html', 'providerPublishTime': 1723149014, 'type': 'STORY', 'relatedTickers': ['TSLA', 'RIVN']}, {'uuid': '64824b54-d6a2-36c2-8a66-a9fde3dcb634', 'title': 'Rivian And Lucid Show That Wealthy Backers Are The Only Chance For Survival Of EV-Only Companies', 'publisher': 'Benzinga', 'link': 'https://finance.yahoo.com/news/rivian-lucid-show-wealthy-backers-193218012.html', 'providerPublishTime': 1723145538, 'type': 'STORY', 'thumbnail': {'resolutions': [{'url': 'https://s.yimg.com/uu/api/res/1.2/f3yiHvkf1slW7DG5Y59sXQ--~B/aD02NzU7dz0xMjAwO2FwcGlkPXl0YWNoeW9u/https://media.zenfs.com/en/Benzinga/487b4ffd5a847ae4c9a9e0b5f1b4b64a', 'width': 1200, 'height': 675, 'tag': 'original'}, {'url': 'https://s.yimg.com/uu/api/res/1.2/tQ4q_5zpCE7yGJhJBHRNaA--~B/Zmk9ZmlsbDtoPTE0MDtweW9mZj0wO3c9MTQwO2FwcGlkPXl0YWNoeW9u/https://media.zenfs.com/en/Benzinga/487b4ffd5a847ae4c9a9e0b5f1b4b64a', 'width': 140, 'height': 140, 'tag': '140x140'}]}, 'relatedTickers': ['RIVN', 'WKSPW', 'TSLA']}, {'uuid': '3d4fbbf3-13f7-335e-b9a1-f53cc9ea97b4', 'title': 'Tesla Stock Is Up. Here’s Where It’s Headed.', 'publisher': 'Barrons.com', 'link': 'https://finance.yahoo.com/m/3d4fbbf3-13f7-335e-b9a1-f53cc9ea97b4/tesla-stock-is-up.-here%E2%80%99s.html', 'providerPublishTime': 1723140480, 'type': 'STORY', 'thumbnail': {'resolutions': [{'url': 'https://s.yimg.com/uu/api/res/1.2/mK53KJ6_0X82i3bRff3GYg--~B/aD02NDA7dz0xMjgwO2FwcGlkPXl0YWNoeW9u/https://media.zenfs.com/en/Barrons.com/f3ec8a57647ba09d75083511025005e7', 'width': 1280, 'height': 640, 'tag': 'original'}, {'url': 'https://s.yimg.com/uu/api/res/1.2/ltlN76VeVFVYFb1HDY6PNA--~B/Zmk9ZmlsbDtoPTE0MDtweW9mZj0wO3c9MTQwO2FwcGlkPXl0YWNoeW9u/https://media.zenfs.com/en/Barrons.com/f3ec8a57647ba09d75083511025005e7', 'width': 140, 'height': 140, 'tag': '140x140'}]}, 'relatedTickers': ['RIVN', 'TSLA']}, {'uuid': '10665b15-359d-358e-96bf-f277eb74e0a5', 'title': 'Planned Florida electric bus center poses new challenges, including potential EV fires', 'publisher': 'Fox Business', 'link': 'https://finance.yahoo.com/news/planned-florida-electric-bus-center-175330904.html', 'providerPublishTime': 1723139610, 'type': 'STORY', 'thumbnail': {'resolutions': [{'url': 'https://s.yimg.com/uu/api/res/1.2/EFHzYWF2dwzpD4C.4O6geg--~B/aD03MjA7dz0xMjgwO2FwcGlkPXl0YWNoeW9u/https://media.zenfs.com/en/fox_business_text_367/be4c9af8887d2f9556dda15bb884b54d', 'width': 1280, 'height': 720, 'tag': 'original'}, {'url': 'https://s.yimg.com/uu/api/res/1.2/hKj4O5bVeAwbjv2AGKZcyw--~B/Zmk9ZmlsbDtoPTE0MDtweW9mZj0wO3c9MTQwO2FwcGlkPXl0YWNoeW9u/https://media.zenfs.com/en/fox_business_text_367/be4c9af8887d2f9556dda15bb884b54d', 'width': 140, 'height': 140, 'tag': '140x140'}]}, 'relatedTickers': ['TSLA']}]\u001b[0m\u001b[32;1m\u001b[1;3mHere are some of the latest news articles related to Tesla:\n",
      "\n",
      "1. **Title**: One of World’s Youngest Billionaires to Double Fortune on Ola IPO\n",
      "   - **Publisher**: Bloomberg\n",
      "   - **Link**: [Read more](https://finance.yahoo.com/news/softbank-backed-billionaire-double-fortune-210000449.html)\n",
      "\n",
      "2. **Title**: Mortgage rates, Lumen CEO, Good Buy or Goodbye: Market Domination\n",
      "   - **Publisher**: Yahoo Finance Video\n",
      "   - **Link**: [Watch video](https://finance.yahoo.com/video/mortgage-rates-lumen-ceo-good-220428313.html)\n",
      "\n",
      "3. **Title**: The EV Industry Landscape\n",
      "   - **Publisher**: GuruFocus.com\n",
      "   - **Link**: [Read more](https://finance.yahoo.com/news/ev-industry-landscape-214256054.html)\n",
      "\n",
      "4. **Title**: Microsoft vs. Tesla: Which should you buy after sell-off?\n",
      "   - **Publisher**: Yahoo Finance Video\n",
      "   - **Link**: [Watch video](https://finance.yahoo.com/video/microsoft-vs-tesla-buy-sell-204255178.html)\n",
      "\n",
      "5. **Title**: California Governor Gavin Newsom 'Bent Over Backwards' To Help Tesla, Says Former Executive\n",
      "   - **Publisher**: Benzinga\n",
      "   - **Link**: [Read more](https://finance.yahoo.com/news/california-governor-gavin-newsom-bent-203014707.html)\n",
      "\n",
      "Feel free to explore these articles for more information.\u001b[0m\n",
      "\n",
      "\u001b[1m> Finished chain.\u001b[0m\n"
     ]
    },
    {
     "data": {
      "text/plain": [
       "{'input': 'Show me the latest news for Tesla.',\n",
       " 'output': \"Here are some of the latest news articles related to Tesla:\\n\\n1. **Title**: One of World’s Youngest Billionaires to Double Fortune on Ola IPO\\n   - **Publisher**: Bloomberg\\n   - **Link**: [Read more](https://finance.yahoo.com/news/softbank-backed-billionaire-double-fortune-210000449.html)\\n\\n2. **Title**: Mortgage rates, Lumen CEO, Good Buy or Goodbye: Market Domination\\n   - **Publisher**: Yahoo Finance Video\\n   - **Link**: [Watch video](https://finance.yahoo.com/video/mortgage-rates-lumen-ceo-good-220428313.html)\\n\\n3. **Title**: The EV Industry Landscape\\n   - **Publisher**: GuruFocus.com\\n   - **Link**: [Read more](https://finance.yahoo.com/news/ev-industry-landscape-214256054.html)\\n\\n4. **Title**: Microsoft vs. Tesla: Which should you buy after sell-off?\\n   - **Publisher**: Yahoo Finance Video\\n   - **Link**: [Watch video](https://finance.yahoo.com/video/microsoft-vs-tesla-buy-sell-204255178.html)\\n\\n5. **Title**: California Governor Gavin Newsom 'Bent Over Backwards' To Help Tesla, Says Former Executive\\n   - **Publisher**: Benzinga\\n   - **Link**: [Read more](https://finance.yahoo.com/news/california-governor-gavin-newsom-bent-203014707.html)\\n\\nFeel free to explore these articles for more information.\"}"
      ]
     },
     "execution_count": 16,
     "metadata": {},
     "output_type": "execute_result"
    }
   ],
   "source": [
    "agent_executor.invoke({\"input\": \"Show me the latest news for Tesla.\"})"
   ]
  },
  {
   "cell_type": "code",
   "execution_count": null,
   "metadata": {},
   "outputs": [],
   "source": [
    "# run_agent(agent_chain=agent_chain, user_input=\"give me information about microsoft\")\n",
    "# run_agent(agent_chain=agent_chain, user_input=\"what's the value of previous high, low, open and close of tesla\")\n",
    "# run_agent(agent_chain=agent_chain, user_input=\"what's the value of previous high, low, open and close, and current price of apple. Give me in table format\")\n",
    "# run_agent(agent_chain=agent_chain, user_input=\"give me apple market data for past 1 month in json format\")\n",
    "\n",
    "\n",
    "# run_agent(agent_chain=agent_chain, user_input=\"give me splits for apple\")\n",
    "# run_agent(agent_chain=agent_chain, user_input=\"give me dividends for Goldman Sachs\")\n",
    "# run_agent(agent_chain=agent_chain, user_input=\"give me dividends and splits for Goldman Sachs\")\n",
    "\n",
    "\n",
    "# run_agent(\n",
    "#     agent_chain=agent_chain,\n",
    "#     user_input=\"Tell me the number of Microsoft shares outstanding since January 1, 2022.\"\n",
    "# )\n",
    "# run_agent(\n",
    "#     agent_chain=agent_chain,\n",
    "#     user_input=\"How many shares did Microsoft have outstanding between January 1, 2022, and December 31, 2022?\"\n",
    "# )\n",
    "# run_agent(\n",
    "#     agent_chain=agent_chain,\n",
    "#     user_input=\"What is the most recent number of Microsoft shares outstanding?\"\n",
    "# )\n",
    "\n",
    "\n",
    "# run_agent(\n",
    "#     agent_chain=agent_chain,\n",
    "#     user_input=\"What is the most recent income statement for Apple?\"\n",
    "# )\n",
    "# run_agent(\n",
    "#     agent_chain=agent_chain,\n",
    "#     user_input=\"Can you show me the latest quarterly income statement for Tesla?\"\n",
    "# )\n",
    "# run_agent(\n",
    "#     agent_chain=agent_chain,\n",
    "#     user_input=\"I need the balance sheet for Microsoft.\"\n",
    "# )\n",
    "# run_agent(\n",
    "#     agent_chain=agent_chain,\n",
    "#     user_input=\"Please provide the quarterly balance sheet for Amazon.\"\n",
    "# )\n",
    "# run_agent(\n",
    "#     agent_chain=agent_chain,\n",
    "#     user_input=\"Show me the cash flow statement for Google in the year 2022.\"\n",
    "# )\n",
    "# run_agent(\n",
    "#     agent_chain=agent_chain,\n",
    "#     user_input=\"Can you get the last 3 years quarterly cash flow statement of 4th quarter for Netflix?\"\n",
    "# )\n",
    "\n",
    "\n",
    "# run_agent(\n",
    "#     agent_chain=agent_chain,\n",
    "#     user_input=\"Who are the major holders of Apple?\"\n",
    "# )\n",
    "# run_agent(\n",
    "#     agent_chain=agent_chain,\n",
    "#     user_input=\"Can you show me the institutional holders of Tesla?\"\n",
    "# )\n",
    "# run_agent(\n",
    "#     agent_chain=agent_chain,\n",
    "#     user_input=\"Show me the recent insider transactions for Microsoft.\"\n",
    "# )\n",
    "# run_agent(\n",
    "#     agent_chain=agent_chain,\n",
    "#     user_input=\"Which mutual funds hold the most shares in Amazon?\"\n",
    "# )\n",
    "# run_agent(\n",
    "#     agent_chain=agent_chain,\n",
    "#     user_input=\"What are the sustainability scores for Google?\"\n",
    "# )\n",
    "\n",
    "\n",
    "# run_agent(\n",
    "#     agent_chain=agent_chain,\n",
    "#     user_input=\"What are the recent analyst recommendations for Apple?\"\n",
    "# )\n",
    "# run_agent(\n",
    "#     agent_chain=agent_chain,\n",
    "#     user_input=\"Can you provide a summary of the latest recommendations for Tesla?\"\n",
    "# )\n",
    "# run_agent(\n",
    "#     agent_chain=agent_chain,\n",
    "#     user_input=\"Show me the recent upgrades and downgrades for Microsoft.\"\n",
    "# )\n",
    "\n",
    "\n",
    "# run_agent(\n",
    "#     agent_chain=agent_chain,\n",
    "#     user_input=\"What are the available options expiration dates for Apple?\"\n",
    "# )\n",
    "# run_agent(\n",
    "#     agent_chain=agent_chain,\n",
    "#     user_input=\"Show me the options expiration dates for Tesla in 2022.\"\n",
    "# )\n",
    "# run_agent(\n",
    "#     agent_chain=agent_chain,\n",
    "#     user_input=\"What is the options chain for Apple expiring on 2023-12-15?\"\n",
    "# )\n",
    "# run_agent(\n",
    "#     agent_chain=agent_chain,\n",
    "#     user_input=\"What is the options chain for Apple expiring on 2023-12-31?\"\n",
    "# )\n",
    "\n",
    "\n",
    "# run_agent(\n",
    "#     agent_chain=agent_chain,\n",
    "#     user_input=\"What are the latest news articles for Apple?\"\n",
    "# )\n",
    "# run_agent(\n",
    "#     agent_chain=agent_chain,\n",
    "#     user_input=\"Show me the latest news for Tesla.\"\n",
    "# )"
   ]
  },
  {
   "cell_type": "code",
   "execution_count": null,
   "metadata": {},
   "outputs": [],
   "source": []
  }
 ],
 "metadata": {
  "kernelspec": {
   "display_name": "venv",
   "language": "python",
   "name": "python3"
  },
  "language_info": {
   "codemirror_mode": {
    "name": "ipython",
    "version": 3
   },
   "file_extension": ".py",
   "mimetype": "text/x-python",
   "name": "python",
   "nbconvert_exporter": "python",
   "pygments_lexer": "ipython3",
   "version": "3.12.2"
  }
 },
 "nbformat": 4,
 "nbformat_minor": 2
}
